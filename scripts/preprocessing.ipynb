{
 "cells": [
  {
   "cell_type": "code",
   "execution_count": 1,
   "id": "dfbfa202-2c47-46de-81ca-8611a720d97f",
   "metadata": {},
   "outputs": [],
   "source": [
    "# !pip freeze"
   ]
  },
  {
   "cell_type": "code",
   "execution_count": 11,
   "id": "e4bfb0de-0fdb-41ad-b15f-42ac0b9f09b8",
   "metadata": {},
   "outputs": [
    {
     "name": "stderr",
     "output_type": "stream",
     "text": [
      "C:\\Users\\huzyfa\\AppData\\Roaming\\Python\\Python310\\site-packages\\torch\\_masked\\__init__.py:223: UserWarning: Failed to initialize NumPy: module compiled against API version 0xf but this version of numpy is 0xe (Triggered internally at  ..\\torch\\csrc\\utils\\tensor_numpy.cpp:68.)\n",
      "  example_input = torch.tensor([[-3, -2, -1], [0, 1, 2]])\n",
      "C:\\Users\\huzyfa\\AppData\\Roaming\\Python\\Python310\\site-packages\\torch\\cuda\\__init__.py:82: UserWarning: CUDA initialization: CUDA driver initialization failed, you might not have a CUDA gpu. (Triggered internally at  ..\\c10\\cuda\\CUDAFunctions.cpp:112.)\n",
      "  return torch._C._cuda_getDeviceCount() > 0\n"
     ]
    }
   ],
   "source": [
    "import spacy"
   ]
  },
  {
   "cell_type": "code",
   "execution_count": 1,
   "id": "a5cc1afc-c15e-4788-87e8-2beb0e9febca",
   "metadata": {},
   "outputs": [
    {
     "name": "stderr",
     "output_type": "stream",
     "text": [
      "WARNING: pip is being invoked by an old script wrapper. This will fail in a future version of pip.\n",
      "Please see https://github.com/pypa/pip/issues/5599 for advice on fixing the underlying issue.\n",
      "To avoid this problem you can invoke Python with '-m pip' instead of running pip directly.\n"
     ]
    },
    {
     "data": {
      "text/html": [
       "<pre style=\"white-space:pre;overflow-x:auto;line-height:normal;font-family:Menlo,'DejaVu Sans Mono',consolas,'Courier New',monospace\">Defaulting to user installation because normal site-packages is not writeable\n",
       "</pre>\n"
      ],
      "text/plain": [
       "Defaulting to user installation because normal site-packages is not writeable\n"
      ]
     },
     "metadata": {},
     "output_type": "display_data"
    },
    {
     "data": {
      "text/html": [
       "<pre style=\"white-space:pre;overflow-x:auto;line-height:normal;font-family:Menlo,'DejaVu Sans Mono',consolas,'Courier New',monospace\">Collecting scispacy\n",
       "</pre>\n"
      ],
      "text/plain": [
       "Collecting scispacy\n"
      ]
     },
     "metadata": {},
     "output_type": "display_data"
    },
    {
     "data": {
      "text/html": [
       "<pre style=\"white-space:pre;overflow-x:auto;line-height:normal;font-family:Menlo,'DejaVu Sans Mono',consolas,'Courier New',monospace\">  Using cached scispacy-0.5.0-py3-none-any.whl (44 kB)\n",
       "</pre>\n"
      ],
      "text/plain": [
       "  Using cached scispacy-0.5.0-py3-none-any.whl (44 kB)\n"
      ]
     },
     "metadata": {},
     "output_type": "display_data"
    },
    {
     "data": {
      "text/html": [
       "<pre style=\"white-space:pre;overflow-x:auto;line-height:normal;font-family:Menlo,'DejaVu Sans Mono',consolas,'Courier New',monospace\">Collecting pysbd\n",
       "</pre>\n"
      ],
      "text/plain": [
       "Collecting pysbd\n"
      ]
     },
     "metadata": {},
     "output_type": "display_data"
    },
    {
     "data": {
      "text/html": [
       "<pre style=\"white-space:pre;overflow-x:auto;line-height:normal;font-family:Menlo,'DejaVu Sans Mono',consolas,'Courier New',monospace\">  Using cached pysbd-0.3.4-py3-none-any.whl (71 kB)\n",
       "</pre>\n"
      ],
      "text/plain": [
       "  Using cached pysbd-0.3.4-py3-none-any.whl (71 kB)\n"
      ]
     },
     "metadata": {},
     "output_type": "display_data"
    },
    {
     "data": {
      "text/html": [
       "<pre style=\"white-space:pre;overflow-x:auto;line-height:normal;font-family:Menlo,'DejaVu Sans Mono',consolas,'Courier New',monospace\">Collecting nmslib&gt;=1.7.3.6\n",
       "</pre>\n"
      ],
      "text/plain": [
       "Collecting nmslib>=1.7.3.6\n"
      ]
     },
     "metadata": {},
     "output_type": "display_data"
    },
    {
     "data": {
      "text/html": [
       "<pre style=\"white-space:pre;overflow-x:auto;line-height:normal;font-family:Menlo,'DejaVu Sans Mono',consolas,'Courier New',monospace\">  Using cached nmslib-2.1.1.tar.gz (188 kB)\n",
       "</pre>\n"
      ],
      "text/plain": [
       "  Using cached nmslib-2.1.1.tar.gz (188 kB)\n"
      ]
     },
     "metadata": {},
     "output_type": "display_data"
    },
    {
     "data": {
      "text/html": [
       "<pre style=\"white-space:pre;overflow-x:auto;line-height:normal;font-family:Menlo,'DejaVu Sans Mono',consolas,'Courier New',monospace\">  Preparing metadata (setup.py): started\n",
       "</pre>\n"
      ],
      "text/plain": [
       "  Preparing metadata (setup.py): started\n"
      ]
     },
     "metadata": {},
     "output_type": "display_data"
    },
    {
     "data": {
      "text/html": [
       "<pre style=\"white-space:pre;overflow-x:auto;line-height:normal;font-family:Menlo,'DejaVu Sans Mono',consolas,'Courier New',monospace\">  Preparing metadata (setup.py): finished with status 'done'\n",
       "</pre>\n"
      ],
      "text/plain": [
       "  Preparing metadata (setup.py): finished with status 'done'\n"
      ]
     },
     "metadata": {},
     "output_type": "display_data"
    },
    {
     "data": {
      "text/html": [
       "<pre style=\"white-space:pre;overflow-x:auto;line-height:normal;font-family:Menlo,'DejaVu Sans Mono',consolas,'Courier New',monospace\">Requirement already satisfied: scikit-learn&gt;=0.20.3 in c:\\users\\huzyfa\\appdata\\roaming\\python\\python310\\site-packages (from scispacy) (1.0.2)\n",
       "</pre>\n"
      ],
      "text/plain": [
       "Requirement already satisfied: scikit-learn>=0.20.3 in c:\\users\\huzyfa\\appdata\\roaming\\python\\python310\\site-packages (from scispacy) (1.0.2)\n"
      ]
     },
     "metadata": {},
     "output_type": "display_data"
    },
    {
     "data": {
      "text/html": [
       "<pre style=\"white-space:pre;overflow-x:auto;line-height:normal;font-family:Menlo,'DejaVu Sans Mono',consolas,'Courier New',monospace\">Requirement already satisfied: requests&lt;3.0.0,&gt;=2.0.0 in c:\\users\\huzyfa\\appdata\\roaming\\python\\python310\\site-packages (from scispacy) (2.26.0)\n",
       "</pre>\n"
      ],
      "text/plain": [
       "Requirement already satisfied: requests<3.0.0,>=2.0.0 in c:\\users\\huzyfa\\appdata\\roaming\\python\\python310\\site-packages (from scispacy) (2.26.0)\n"
      ]
     },
     "metadata": {},
     "output_type": "display_data"
    },
    {
     "data": {
      "text/html": [
       "<pre style=\"white-space:pre;overflow-x:auto;line-height:normal;font-family:Menlo,'DejaVu Sans Mono',consolas,'Courier New',monospace\">Requirement already satisfied: numpy in c:\\users\\huzyfa\\appdata\\roaming\\python\\python310\\site-packages (from scispacy) (1.21.4)\n",
       "</pre>\n"
      ],
      "text/plain": [
       "Requirement already satisfied: numpy in c:\\users\\huzyfa\\appdata\\roaming\\python\\python310\\site-packages (from scispacy) (1.21.4)\n"
      ]
     },
     "metadata": {},
     "output_type": "display_data"
    },
    {
     "data": {
      "text/html": [
       "<pre style=\"white-space:pre;overflow-x:auto;line-height:normal;font-family:Menlo,'DejaVu Sans Mono',consolas,'Courier New',monospace\">Requirement already satisfied: spacy&lt;3.3.0,&gt;=3.2.0 in c:\\users\\huzyfa\\appdata\\roaming\\python\\python310\\site-packages (from scispacy) (3.2.4)\n",
       "</pre>\n"
      ],
      "text/plain": [
       "Requirement already satisfied: spacy<3.3.0,>=3.2.0 in c:\\users\\huzyfa\\appdata\\roaming\\python\\python310\\site-packages (from scispacy) (3.2.4)\n"
      ]
     },
     "metadata": {},
     "output_type": "display_data"
    },
    {
     "data": {
      "text/html": [
       "<pre style=\"white-space:pre;overflow-x:auto;line-height:normal;font-family:Menlo,'DejaVu Sans Mono',consolas,'Courier New',monospace\">Collecting conllu\n",
       "</pre>\n"
      ],
      "text/plain": [
       "Collecting conllu\n"
      ]
     },
     "metadata": {},
     "output_type": "display_data"
    },
    {
     "data": {
      "text/html": [
       "<pre style=\"white-space:pre;overflow-x:auto;line-height:normal;font-family:Menlo,'DejaVu Sans Mono',consolas,'Courier New',monospace\">  Using cached conllu-4.4.1-py2.py3-none-any.whl (15 kB)\n",
       "</pre>\n"
      ],
      "text/plain": [
       "  Using cached conllu-4.4.1-py2.py3-none-any.whl (15 kB)\n"
      ]
     },
     "metadata": {},
     "output_type": "display_data"
    },
    {
     "data": {
      "text/html": [
       "<pre style=\"white-space:pre;overflow-x:auto;line-height:normal;font-family:Menlo,'DejaVu Sans Mono',consolas,'Courier New',monospace\">Requirement already satisfied: joblib in c:\\users\\huzyfa\\appdata\\roaming\\python\\python310\\site-packages (from scispacy) (1.1.0)\n",
       "</pre>\n"
      ],
      "text/plain": [
       "Requirement already satisfied: joblib in c:\\users\\huzyfa\\appdata\\roaming\\python\\python310\\site-packages (from scispacy) (1.1.0)\n"
      ]
     },
     "metadata": {},
     "output_type": "display_data"
    },
    {
     "data": {
      "text/html": [
       "<pre style=\"white-space:pre;overflow-x:auto;line-height:normal;font-family:Menlo,'DejaVu Sans Mono',consolas,'Courier New',monospace\">Collecting pybind11&lt;2.6.2\n",
       "</pre>\n"
      ],
      "text/plain": [
       "Collecting pybind11<2.6.2\n"
      ]
     },
     "metadata": {},
     "output_type": "display_data"
    },
    {
     "data": {
      "text/html": [
       "<pre style=\"white-space:pre;overflow-x:auto;line-height:normal;font-family:Menlo,'DejaVu Sans Mono',consolas,'Courier New',monospace\">  Using cached pybind11-2.6.1-py2.py3-none-any.whl (188 kB)\n",
       "</pre>\n"
      ],
      "text/plain": [
       "  Using cached pybind11-2.6.1-py2.py3-none-any.whl (188 kB)\n"
      ]
     },
     "metadata": {},
     "output_type": "display_data"
    },
    {
     "data": {
      "text/html": [
       "<pre style=\"white-space:pre;overflow-x:auto;line-height:normal;font-family:Menlo,'DejaVu Sans Mono',consolas,'Courier New',monospace\">Collecting psutil\n",
       "</pre>\n"
      ],
      "text/plain": [
       "Collecting psutil\n"
      ]
     },
     "metadata": {},
     "output_type": "display_data"
    },
    {
     "data": {
      "text/html": [
       "<pre style=\"white-space:pre;overflow-x:auto;line-height:normal;font-family:Menlo,'DejaVu Sans Mono',consolas,'Courier New',monospace\">  Using cached psutil-5.9.0-cp310-cp310-win_amd64.whl (245 kB)\n",
       "</pre>\n"
      ],
      "text/plain": [
       "  Using cached psutil-5.9.0-cp310-cp310-win_amd64.whl (245 kB)\n"
      ]
     },
     "metadata": {},
     "output_type": "display_data"
    },
    {
     "data": {
      "text/html": [
       "<pre style=\"white-space:pre;overflow-x:auto;line-height:normal;font-family:Menlo,'DejaVu Sans Mono',consolas,'Courier New',monospace\">Requirement already satisfied: certifi&gt;=2017.4.17 in c:\\users\\huzyfa\\appdata\\roaming\\python\\python310\\site-packages (from requests&lt;3.0.0,&gt;=2.0.0-&gt;scispacy) (2021.10.8)\n",
       "</pre>\n"
      ],
      "text/plain": [
       "Requirement already satisfied: certifi>=2017.4.17 in c:\\users\\huzyfa\\appdata\\roaming\\python\\python310\\site-packages (from requests<3.0.0,>=2.0.0->scispacy) (2021.10.8)\n"
      ]
     },
     "metadata": {},
     "output_type": "display_data"
    },
    {
     "data": {
      "text/html": [
       "<pre style=\"white-space:pre;overflow-x:auto;line-height:normal;font-family:Menlo,'DejaVu Sans Mono',consolas,'Courier New',monospace\">Requirement already satisfied: urllib3&lt;1.27,&gt;=1.21.1 in c:\\users\\huzyfa\\appdata\\roaming\\python\\python310\\site-packages (from requests&lt;3.0.0,&gt;=2.0.0-&gt;scispacy) (1.26.7)\n",
       "</pre>\n"
      ],
      "text/plain": [
       "Requirement already satisfied: urllib3<1.27,>=1.21.1 in c:\\users\\huzyfa\\appdata\\roaming\\python\\python310\\site-packages (from requests<3.0.0,>=2.0.0->scispacy) (1.26.7)\n"
      ]
     },
     "metadata": {},
     "output_type": "display_data"
    },
    {
     "data": {
      "text/html": [
       "<pre style=\"white-space:pre;overflow-x:auto;line-height:normal;font-family:Menlo,'DejaVu Sans Mono',consolas,'Courier New',monospace\">Requirement already satisfied: idna&lt;4,&gt;=2.5 in c:\\users\\huzyfa\\appdata\\roaming\\python\\python310\\site-packages (from requests&lt;3.0.0,&gt;=2.0.0-&gt;scispacy) (3.3)\n",
       "</pre>\n"
      ],
      "text/plain": [
       "Requirement already satisfied: idna<4,>=2.5 in c:\\users\\huzyfa\\appdata\\roaming\\python\\python310\\site-packages (from requests<3.0.0,>=2.0.0->scispacy) (3.3)\n"
      ]
     },
     "metadata": {},
     "output_type": "display_data"
    },
    {
     "data": {
      "text/html": [
       "<pre style=\"white-space:pre;overflow-x:auto;line-height:normal;font-family:Menlo,'DejaVu Sans Mono',consolas,'Courier New',monospace\">Requirement already satisfied: charset-normalizer~=2.0.0 in c:\\users\\huzyfa\\appdata\\roaming\\python\\python310\\site-packages (from requests&lt;3.0.0,&gt;=2.0.0-&gt;scispacy) (2.0.7)\n",
       "</pre>\n"
      ],
      "text/plain": [
       "Requirement already satisfied: charset-normalizer~=2.0.0 in c:\\users\\huzyfa\\appdata\\roaming\\python\\python310\\site-packages (from requests<3.0.0,>=2.0.0->scispacy) (2.0.7)\n"
      ]
     },
     "metadata": {},
     "output_type": "display_data"
    },
    {
     "data": {
      "text/html": [
       "<pre style=\"white-space:pre;overflow-x:auto;line-height:normal;font-family:Menlo,'DejaVu Sans Mono',consolas,'Courier New',monospace\">Requirement already satisfied: scipy&gt;=1.1.0 in c:\\users\\huzyfa\\appdata\\roaming\\python\\python310\\site-packages (from scikit-learn&gt;=0.20.3-&gt;scispacy) (1.7.2)\n",
       "</pre>\n"
      ],
      "text/plain": [
       "Requirement already satisfied: scipy>=1.1.0 in c:\\users\\huzyfa\\appdata\\roaming\\python\\python310\\site-packages (from scikit-learn>=0.20.3->scispacy) (1.7.2)\n"
      ]
     },
     "metadata": {},
     "output_type": "display_data"
    },
    {
     "data": {
      "text/html": [
       "<pre style=\"white-space:pre;overflow-x:auto;line-height:normal;font-family:Menlo,'DejaVu Sans Mono',consolas,'Courier New',monospace\">Requirement already satisfied: threadpoolctl&gt;=2.0.0 in c:\\users\\huzyfa\\appdata\\roaming\\python\\python310\\site-packages (from scikit-learn&gt;=0.20.3-&gt;scispacy) (3.0.0)\n",
       "</pre>\n"
      ],
      "text/plain": [
       "Requirement already satisfied: threadpoolctl>=2.0.0 in c:\\users\\huzyfa\\appdata\\roaming\\python\\python310\\site-packages (from scikit-learn>=0.20.3->scispacy) (3.0.0)\n"
      ]
     },
     "metadata": {},
     "output_type": "display_data"
    },
    {
     "data": {
      "text/html": [
       "<pre style=\"white-space:pre;overflow-x:auto;line-height:normal;font-family:Menlo,'DejaVu Sans Mono',consolas,'Courier New',monospace\">Requirement already satisfied: catalogue&lt;2.1.0,&gt;=2.0.6 in c:\\users\\huzyfa\\appdata\\roaming\\python\\python310\\site-packages (from spacy&lt;3.3.0,&gt;=3.2.0-&gt;scispacy) (2.0.7)\n",
       "</pre>\n"
      ],
      "text/plain": [
       "Requirement already satisfied: catalogue<2.1.0,>=2.0.6 in c:\\users\\huzyfa\\appdata\\roaming\\python\\python310\\site-packages (from spacy<3.3.0,>=3.2.0->scispacy) (2.0.7)\n"
      ]
     },
     "metadata": {},
     "output_type": "display_data"
    },
    {
     "data": {
      "text/html": [
       "<pre style=\"white-space:pre;overflow-x:auto;line-height:normal;font-family:Menlo,'DejaVu Sans Mono',consolas,'Courier New',monospace\">Requirement already satisfied: spacy-legacy&lt;3.1.0,&gt;=3.0.8 in c:\\users\\huzyfa\\appdata\\roaming\\python\\python310\\site-packages (from spacy&lt;3.3.0,&gt;=3.2.0-&gt;scispacy) (3.0.9)\n",
       "</pre>\n"
      ],
      "text/plain": [
       "Requirement already satisfied: spacy-legacy<3.1.0,>=3.0.8 in c:\\users\\huzyfa\\appdata\\roaming\\python\\python310\\site-packages (from spacy<3.3.0,>=3.2.0->scispacy) (3.0.9)\n"
      ]
     },
     "metadata": {},
     "output_type": "display_data"
    },
    {
     "data": {
      "text/html": [
       "<pre style=\"white-space:pre;overflow-x:auto;line-height:normal;font-family:Menlo,'DejaVu Sans Mono',consolas,'Courier New',monospace\">Requirement already satisfied: click&lt;8.1.0 in c:\\users\\huzyfa\\appdata\\roaming\\python\\python310\\site-packages (from spacy&lt;3.3.0,&gt;=3.2.0-&gt;scispacy) (8.0.3)\n",
       "</pre>\n"
      ],
      "text/plain": [
       "Requirement already satisfied: click<8.1.0 in c:\\users\\huzyfa\\appdata\\roaming\\python\\python310\\site-packages (from spacy<3.3.0,>=3.2.0->scispacy) (8.0.3)\n"
      ]
     },
     "metadata": {},
     "output_type": "display_data"
    },
    {
     "data": {
      "text/html": [
       "<pre style=\"white-space:pre;overflow-x:auto;line-height:normal;font-family:Menlo,'DejaVu Sans Mono',consolas,'Courier New',monospace\">Requirement already satisfied: setuptools in c:\\program files\\python310\\lib\\site-packages (from spacy&lt;3.3.0,&gt;=3.2.0-&gt;scispacy) (57.4.0)\n",
       "</pre>\n"
      ],
      "text/plain": [
       "Requirement already satisfied: setuptools in c:\\program files\\python310\\lib\\site-packages (from spacy<3.3.0,>=3.2.0->scispacy) (57.4.0)\n"
      ]
     },
     "metadata": {},
     "output_type": "display_data"
    },
    {
     "data": {
      "text/html": [
       "<pre style=\"white-space:pre;overflow-x:auto;line-height:normal;font-family:Menlo,'DejaVu Sans Mono',consolas,'Courier New',monospace\">Requirement already satisfied: pathy&gt;=0.3.5 in c:\\users\\huzyfa\\appdata\\roaming\\python\\python310\\site-packages (from spacy&lt;3.3.0,&gt;=3.2.0-&gt;scispacy) (0.6.1)\n",
       "</pre>\n"
      ],
      "text/plain": [
       "Requirement already satisfied: pathy>=0.3.5 in c:\\users\\huzyfa\\appdata\\roaming\\python\\python310\\site-packages (from spacy<3.3.0,>=3.2.0->scispacy) (0.6.1)\n"
      ]
     },
     "metadata": {},
     "output_type": "display_data"
    },
    {
     "data": {
      "text/html": [
       "<pre style=\"white-space:pre;overflow-x:auto;line-height:normal;font-family:Menlo,'DejaVu Sans Mono',consolas,'Courier New',monospace\">Requirement already satisfied: murmurhash&lt;1.1.0,&gt;=0.28.0 in c:\\users\\huzyfa\\appdata\\roaming\\python\\python310\\site-packages (from spacy&lt;3.3.0,&gt;=3.2.0-&gt;scispacy) (1.0.6)\n",
       "</pre>\n"
      ],
      "text/plain": [
       "Requirement already satisfied: murmurhash<1.1.0,>=0.28.0 in c:\\users\\huzyfa\\appdata\\roaming\\python\\python310\\site-packages (from spacy<3.3.0,>=3.2.0->scispacy) (1.0.6)\n"
      ]
     },
     "metadata": {},
     "output_type": "display_data"
    },
    {
     "data": {
      "text/html": [
       "<pre style=\"white-space:pre;overflow-x:auto;line-height:normal;font-family:Menlo,'DejaVu Sans Mono',consolas,'Courier New',monospace\">Requirement already satisfied: srsly&lt;3.0.0,&gt;=2.4.1 in c:\\users\\huzyfa\\appdata\\roaming\\python\\python310\\site-packages (from spacy&lt;3.3.0,&gt;=3.2.0-&gt;scispacy) (2.4.3)\n",
       "</pre>\n"
      ],
      "text/plain": [
       "Requirement already satisfied: srsly<3.0.0,>=2.4.1 in c:\\users\\huzyfa\\appdata\\roaming\\python\\python310\\site-packages (from spacy<3.3.0,>=3.2.0->scispacy) (2.4.3)\n"
      ]
     },
     "metadata": {},
     "output_type": "display_data"
    },
    {
     "data": {
      "text/html": [
       "<pre style=\"white-space:pre;overflow-x:auto;line-height:normal;font-family:Menlo,'DejaVu Sans Mono',consolas,'Courier New',monospace\">Requirement already satisfied: typer&lt;0.5.0,&gt;=0.3.0 in c:\\users\\huzyfa\\appdata\\roaming\\python\\python310\\site-packages (from spacy&lt;3.3.0,&gt;=3.2.0-&gt;scispacy) (0.4.1)\n",
       "</pre>\n"
      ],
      "text/plain": [
       "Requirement already satisfied: typer<0.5.0,>=0.3.0 in c:\\users\\huzyfa\\appdata\\roaming\\python\\python310\\site-packages (from spacy<3.3.0,>=3.2.0->scispacy) (0.4.1)\n"
      ]
     },
     "metadata": {},
     "output_type": "display_data"
    },
    {
     "data": {
      "text/html": [
       "<pre style=\"white-space:pre;overflow-x:auto;line-height:normal;font-family:Menlo,'DejaVu Sans Mono',consolas,'Courier New',monospace\">Requirement already satisfied: tqdm&lt;5.0.0,&gt;=4.38.0 in c:\\users\\huzyfa\\appdata\\roaming\\python\\python310\\site-packages (from spacy&lt;3.3.0,&gt;=3.2.0-&gt;scispacy) (4.62.3)\n",
       "</pre>\n"
      ],
      "text/plain": [
       "Requirement already satisfied: tqdm<5.0.0,>=4.38.0 in c:\\users\\huzyfa\\appdata\\roaming\\python\\python310\\site-packages (from spacy<3.3.0,>=3.2.0->scispacy) (4.62.3)\n"
      ]
     },
     "metadata": {},
     "output_type": "display_data"
    },
    {
     "data": {
      "text/html": [
       "<pre style=\"white-space:pre;overflow-x:auto;line-height:normal;font-family:Menlo,'DejaVu Sans Mono',consolas,'Courier New',monospace\">Requirement already satisfied: wasabi&lt;1.1.0,&gt;=0.8.1 in c:\\users\\huzyfa\\appdata\\roaming\\python\\python310\\site-packages (from spacy&lt;3.3.0,&gt;=3.2.0-&gt;scispacy) (0.9.1)\n",
       "</pre>\n"
      ],
      "text/plain": [
       "Requirement already satisfied: wasabi<1.1.0,>=0.8.1 in c:\\users\\huzyfa\\appdata\\roaming\\python\\python310\\site-packages (from spacy<3.3.0,>=3.2.0->scispacy) (0.9.1)\n"
      ]
     },
     "metadata": {},
     "output_type": "display_data"
    },
    {
     "data": {
      "text/html": [
       "<pre style=\"white-space:pre;overflow-x:auto;line-height:normal;font-family:Menlo,'DejaVu Sans Mono',consolas,'Courier New',monospace\">Requirement already satisfied: preshed&lt;3.1.0,&gt;=3.0.2 in c:\\users\\huzyfa\\appdata\\roaming\\python\\python310\\site-packages (from spacy&lt;3.3.0,&gt;=3.2.0-&gt;scispacy) (3.0.6)\n",
       "</pre>\n"
      ],
      "text/plain": [
       "Requirement already satisfied: preshed<3.1.0,>=3.0.2 in c:\\users\\huzyfa\\appdata\\roaming\\python\\python310\\site-packages (from spacy<3.3.0,>=3.2.0->scispacy) (3.0.6)\n"
      ]
     },
     "metadata": {},
     "output_type": "display_data"
    },
    {
     "data": {
      "text/html": [
       "<pre style=\"white-space:pre;overflow-x:auto;line-height:normal;font-family:Menlo,'DejaVu Sans Mono',consolas,'Courier New',monospace\">Requirement already satisfied: blis&lt;0.8.0,&gt;=0.4.0 in c:\\users\\huzyfa\\appdata\\roaming\\python\\python310\\site-packages (from spacy&lt;3.3.0,&gt;=3.2.0-&gt;scispacy) (0.7.7)\n",
       "</pre>\n"
      ],
      "text/plain": [
       "Requirement already satisfied: blis<0.8.0,>=0.4.0 in c:\\users\\huzyfa\\appdata\\roaming\\python\\python310\\site-packages (from spacy<3.3.0,>=3.2.0->scispacy) (0.7.7)\n"
      ]
     },
     "metadata": {},
     "output_type": "display_data"
    },
    {
     "data": {
      "text/html": [
       "<pre style=\"white-space:pre;overflow-x:auto;line-height:normal;font-family:Menlo,'DejaVu Sans Mono',consolas,'Courier New',monospace\">Requirement already satisfied: cymem&lt;2.1.0,&gt;=2.0.2 in c:\\users\\huzyfa\\appdata\\roaming\\python\\python310\\site-packages (from spacy&lt;3.3.0,&gt;=3.2.0-&gt;scispacy) (2.0.6)\n",
       "</pre>\n"
      ],
      "text/plain": [
       "Requirement already satisfied: cymem<2.1.0,>=2.0.2 in c:\\users\\huzyfa\\appdata\\roaming\\python\\python310\\site-packages (from spacy<3.3.0,>=3.2.0->scispacy) (2.0.6)\n"
      ]
     },
     "metadata": {},
     "output_type": "display_data"
    },
    {
     "data": {
      "text/html": [
       "<pre style=\"white-space:pre;overflow-x:auto;line-height:normal;font-family:Menlo,'DejaVu Sans Mono',consolas,'Courier New',monospace\">Requirement already satisfied: packaging&gt;=20.0 in c:\\users\\huzyfa\\appdata\\roaming\\python\\python310\\site-packages (from spacy&lt;3.3.0,&gt;=3.2.0-&gt;scispacy) (21.2)\n",
       "</pre>\n"
      ],
      "text/plain": [
       "Requirement already satisfied: packaging>=20.0 in c:\\users\\huzyfa\\appdata\\roaming\\python\\python310\\site-packages (from spacy<3.3.0,>=3.2.0->scispacy) (21.2)\n"
      ]
     },
     "metadata": {},
     "output_type": "display_data"
    },
    {
     "data": {
      "text/html": [
       "<pre style=\"white-space:pre;overflow-x:auto;line-height:normal;font-family:Menlo,'DejaVu Sans Mono',consolas,'Courier New',monospace\">Requirement already satisfied: jinja2 in c:\\users\\huzyfa\\appdata\\roaming\\python\\python310\\site-packages (from spacy&lt;3.3.0,&gt;=3.2.0-&gt;scispacy) (3.0.2)\n",
       "</pre>\n"
      ],
      "text/plain": [
       "Requirement already satisfied: jinja2 in c:\\users\\huzyfa\\appdata\\roaming\\python\\python310\\site-packages (from spacy<3.3.0,>=3.2.0->scispacy) (3.0.2)\n"
      ]
     },
     "metadata": {},
     "output_type": "display_data"
    },
    {
     "data": {
      "text/html": [
       "<pre style=\"white-space:pre;overflow-x:auto;line-height:normal;font-family:Menlo,'DejaVu Sans Mono',consolas,'Courier New',monospace\">Requirement already satisfied: thinc&lt;8.1.0,&gt;=8.0.12 in c:\\users\\huzyfa\\appdata\\roaming\\python\\python310\\site-packages (from spacy&lt;3.3.0,&gt;=3.2.0-&gt;scispacy) (8.0.15)\n",
       "</pre>\n"
      ],
      "text/plain": [
       "Requirement already satisfied: thinc<8.1.0,>=8.0.12 in c:\\users\\huzyfa\\appdata\\roaming\\python\\python310\\site-packages (from spacy<3.3.0,>=3.2.0->scispacy) (8.0.15)\n"
      ]
     },
     "metadata": {},
     "output_type": "display_data"
    },
    {
     "data": {
      "text/html": [
       "<pre style=\"white-space:pre;overflow-x:auto;line-height:normal;font-family:Menlo,'DejaVu Sans Mono',consolas,'Courier New',monospace\">Requirement already satisfied: spacy-loggers&lt;2.0.0,&gt;=1.0.0 in c:\\users\\huzyfa\\appdata\\roaming\\python\\python310\\site-packages (from spacy&lt;3.3.0,&gt;=3.2.0-&gt;scispacy) (1.0.2)\n",
       "</pre>\n"
      ],
      "text/plain": [
       "Requirement already satisfied: spacy-loggers<2.0.0,>=1.0.0 in c:\\users\\huzyfa\\appdata\\roaming\\python\\python310\\site-packages (from spacy<3.3.0,>=3.2.0->scispacy) (1.0.2)\n"
      ]
     },
     "metadata": {},
     "output_type": "display_data"
    },
    {
     "data": {
      "text/html": [
       "<pre style=\"white-space:pre;overflow-x:auto;line-height:normal;font-family:Menlo,'DejaVu Sans Mono',consolas,'Courier New',monospace\">Requirement already satisfied: langcodes&lt;4.0.0,&gt;=3.2.0 in c:\\users\\huzyfa\\appdata\\roaming\\python\\python310\\site-packages (from spacy&lt;3.3.0,&gt;=3.2.0-&gt;scispacy) (3.3.0)\n",
       "</pre>\n"
      ],
      "text/plain": [
       "Requirement already satisfied: langcodes<4.0.0,>=3.2.0 in c:\\users\\huzyfa\\appdata\\roaming\\python\\python310\\site-packages (from spacy<3.3.0,>=3.2.0->scispacy) (3.3.0)\n"
      ]
     },
     "metadata": {},
     "output_type": "display_data"
    },
    {
     "data": {
      "text/html": [
       "<pre style=\"white-space:pre;overflow-x:auto;line-height:normal;font-family:Menlo,'DejaVu Sans Mono',consolas,'Courier New',monospace\">Requirement already satisfied: pydantic!=1.8,!=1.8.1,&lt;1.9.0,&gt;=1.7.4 in c:\\users\\huzyfa\\appdata\\roaming\\python\\python310\\site-packages (from spacy&lt;3.3.0,&gt;=3.2.0-&gt;scispacy) (1.8.2)\n",
       "</pre>\n"
      ],
      "text/plain": [
       "Requirement already satisfied: pydantic!=1.8,!=1.8.1,<1.9.0,>=1.7.4 in c:\\users\\huzyfa\\appdata\\roaming\\python\\python310\\site-packages (from spacy<3.3.0,>=3.2.0->scispacy) (1.8.2)\n"
      ]
     },
     "metadata": {},
     "output_type": "display_data"
    },
    {
     "data": {
      "text/html": [
       "<pre style=\"white-space:pre;overflow-x:auto;line-height:normal;font-family:Menlo,'DejaVu Sans Mono',consolas,'Courier New',monospace\">Requirement already satisfied: colorama in c:\\users\\huzyfa\\appdata\\roaming\\python\\python310\\site-packages (from click&lt;8.1.0-&gt;spacy&lt;3.3.0,&gt;=3.2.0-&gt;scispacy) (0.4.4)\n",
       "</pre>\n"
      ],
      "text/plain": [
       "Requirement already satisfied: colorama in c:\\users\\huzyfa\\appdata\\roaming\\python\\python310\\site-packages (from click<8.1.0->spacy<3.3.0,>=3.2.0->scispacy) (0.4.4)\n"
      ]
     },
     "metadata": {},
     "output_type": "display_data"
    },
    {
     "data": {
      "text/html": [
       "<pre style=\"white-space:pre;overflow-x:auto;line-height:normal;font-family:Menlo,'DejaVu Sans Mono',consolas,'Courier New',monospace\">Requirement already satisfied: pyparsing&lt;3,&gt;=2.0.2 in c:\\users\\huzyfa\\appdata\\roaming\\python\\python310\\site-packages (from packaging&gt;=20.0-&gt;spacy&lt;3.3.0,&gt;=3.2.0-&gt;scispacy) (2.4.7)\n",
       "</pre>\n"
      ],
      "text/plain": [
       "Requirement already satisfied: pyparsing<3,>=2.0.2 in c:\\users\\huzyfa\\appdata\\roaming\\python\\python310\\site-packages (from packaging>=20.0->spacy<3.3.0,>=3.2.0->scispacy) (2.4.7)\n"
      ]
     },
     "metadata": {},
     "output_type": "display_data"
    },
    {
     "data": {
      "text/html": [
       "<pre style=\"white-space:pre;overflow-x:auto;line-height:normal;font-family:Menlo,'DejaVu Sans Mono',consolas,'Courier New',monospace\">Requirement already satisfied: smart-open&lt;6.0.0,&gt;=5.0.0 in c:\\users\\huzyfa\\appdata\\roaming\\python\\python310\\site-packages (from pathy&gt;=0.3.5-&gt;spacy&lt;3.3.0,&gt;=3.2.0-&gt;scispacy) (5.2.1)\n",
       "</pre>\n"
      ],
      "text/plain": [
       "Requirement already satisfied: smart-open<6.0.0,>=5.0.0 in c:\\users\\huzyfa\\appdata\\roaming\\python\\python310\\site-packages (from pathy>=0.3.5->spacy<3.3.0,>=3.2.0->scispacy) (5.2.1)\n"
      ]
     },
     "metadata": {},
     "output_type": "display_data"
    },
    {
     "data": {
      "text/html": [
       "<pre style=\"white-space:pre;overflow-x:auto;line-height:normal;font-family:Menlo,'DejaVu Sans Mono',consolas,'Courier New',monospace\">Requirement already satisfied: typing-extensions&gt;=3.7.4.3 in c:\\users\\huzyfa\\appdata\\roaming\\python\\python310\\site-packages (from pydantic!=1.8,!=1.8.1,&lt;1.9.0,&gt;=1.7.4-&gt;spacy&lt;3.3.0,&gt;=3.2.0-&gt;scispacy) (4.0.1)\n",
       "</pre>\n"
      ],
      "text/plain": [
       "Requirement already satisfied: typing-extensions>=3.7.4.3 in c:\\users\\huzyfa\\appdata\\roaming\\python\\python310\\site-packages (from pydantic!=1.8,!=1.8.1,<1.9.0,>=1.7.4->spacy<3.3.0,>=3.2.0->scispacy) (4.0.1)\n"
      ]
     },
     "metadata": {},
     "output_type": "display_data"
    },
    {
     "data": {
      "text/html": [
       "<pre style=\"white-space:pre;overflow-x:auto;line-height:normal;font-family:Menlo,'DejaVu Sans Mono',consolas,'Courier New',monospace\">Requirement already satisfied: MarkupSafe&gt;=2.0 in c:\\users\\huzyfa\\appdata\\roaming\\python\\python310\\site-packages (from jinja2-&gt;spacy&lt;3.3.0,&gt;=3.2.0-&gt;scispacy) (2.0.1)\n",
       "</pre>\n"
      ],
      "text/plain": [
       "Requirement already satisfied: MarkupSafe>=2.0 in c:\\users\\huzyfa\\appdata\\roaming\\python\\python310\\site-packages (from jinja2->spacy<3.3.0,>=3.2.0->scispacy) (2.0.1)\n"
      ]
     },
     "metadata": {},
     "output_type": "display_data"
    },
    {
     "data": {
      "text/html": [
       "<pre style=\"white-space:pre;overflow-x:auto;line-height:normal;font-family:Menlo,'DejaVu Sans Mono',consolas,'Courier New',monospace\">Building wheels for collected packages: nmslib\n",
       "</pre>\n"
      ],
      "text/plain": [
       "Building wheels for collected packages: nmslib\n"
      ]
     },
     "metadata": {},
     "output_type": "display_data"
    },
    {
     "data": {
      "text/html": [
       "<pre style=\"white-space:pre;overflow-x:auto;line-height:normal;font-family:Menlo,'DejaVu Sans Mono',consolas,'Courier New',monospace\">  Building wheel for nmslib (setup.py): started\n",
       "</pre>\n"
      ],
      "text/plain": [
       "  Building wheel for nmslib (setup.py): started\n"
      ]
     },
     "metadata": {},
     "output_type": "display_data"
    },
    {
     "data": {
      "text/html": [
       "<pre style=\"white-space:pre;overflow-x:auto;line-height:normal;font-family:Menlo,'DejaVu Sans Mono',consolas,'Courier New',monospace\">  Building wheel for nmslib (setup.py): finished with status 'error'\n",
       "</pre>\n"
      ],
      "text/plain": [
       "  Building wheel for nmslib (setup.py): finished with status 'error'\n"
      ]
     },
     "metadata": {},
     "output_type": "display_data"
    },
    {
     "data": {
      "text/html": [
       "<pre style=\"white-space:pre;overflow-x:auto;line-height:normal;font-family:Menlo,'DejaVu Sans Mono',consolas,'Courier New',monospace\">  <span style=\"color: #800000; text-decoration-color: #800000; font-weight: bold\">error</span>: <span style=\"font-weight: bold\">subprocess-exited-with-error</span>\n",
       "  \n",
       "  <span style=\"color: #800000; text-decoration-color: #800000\">×</span> <span style=\"color: #008000; text-decoration-color: #008000\">python setup.py bdist_wheel</span> did not run successfully.\n",
       "  <span style=\"color: #800000; text-decoration-color: #800000\">│</span> exit code: <span style=\"color: #008080; text-decoration-color: #008080; font-weight: bold\">1</span>\n",
       "  <span style=\"color: #800000; text-decoration-color: #800000\">╰─&gt;</span> <span style=\"color: #800000; text-decoration-color: #800000\">[11 lines of output]</span>\n",
       "  <span style=\"color: #800000; text-decoration-color: #800000\">   </span> Dependence list: ['pybind11&lt;2.6.2', 'psutil', \"numpy&gt;=1.10.0,&lt;1.17 ; python_version=='2.7'\", \"numpy&gt;=1.10.0 ; python_version&gt;='3.5'\"]\n",
       "  <span style=\"color: #800000; text-decoration-color: #800000\">   </span> C:\\Program Files\\Python310\\lib\\site-packages\\setuptools\\dist.py:697: UserWarning: Usage of dash-separated 'description-file' will not be supported in future versions. Please use the underscore name 'description_file' instead\n",
       "  <span style=\"color: #800000; text-decoration-color: #800000\">   </span>   warnings.warn(\n",
       "  <span style=\"color: #800000; text-decoration-color: #800000\">   </span> C:\\Program Files\\Python310\\lib\\site-packages\\setuptools\\dist.py:697: UserWarning: Usage of dash-separated 'description-file' will not be supported in future versions. Please use the underscore name 'description_file' instead\n",
       "  <span style=\"color: #800000; text-decoration-color: #800000\">   </span>   warnings.warn(\n",
       "  <span style=\"color: #800000; text-decoration-color: #800000\">   </span> running bdist_wheel\n",
       "  <span style=\"color: #800000; text-decoration-color: #800000\">   </span> running build\n",
       "  <span style=\"color: #800000; text-decoration-color: #800000\">   </span> running build_ext\n",
       "  <span style=\"color: #800000; text-decoration-color: #800000\">   </span> Extra compilation arguments: ['/EHsc', '/openmp', '/O2', '/DVERSION_INFO=\\\\\"2.1.1\\\\\"']\n",
       "  <span style=\"color: #800000; text-decoration-color: #800000\">   </span> building 'nmslib' extension\n",
       "  <span style=\"color: #800000; text-decoration-color: #800000\">   </span> error: Microsoft Visual C++ 14.0 or greater is required. Get it with \"Microsoft C++ Build Tools\": https://visualstudio.microsoft.com/visual-cpp-build-tools/\n",
       "  <span style=\"color: #800000; text-decoration-color: #800000\">   </span> <span style=\"color: #800000; text-decoration-color: #800000\">[end of output]</span>\n",
       "  \n",
       "  <span style=\"color: #800080; text-decoration-color: #800080; font-weight: bold\">note</span>: This error originates from a subprocess, and is likely not a problem with pip.\n",
       "</pre>\n"
      ],
      "text/plain": [
       "  \u001b[1;31merror\u001b[0m: \u001b[1msubprocess-exited-with-error\u001b[0m\n",
       "  \n",
       "  \u001b[31m×\u001b[0m \u001b[32mpython setup.py bdist_wheel\u001b[0m did not run successfully.\n",
       "  \u001b[31m│\u001b[0m exit code: \u001b[1;36m1\u001b[0m\n",
       "  \u001b[31m╰─>\u001b[0m \u001b[31m[11 lines of output]\u001b[0m\n",
       "  \u001b[31m   \u001b[0m Dependence list: ['pybind11<2.6.2', 'psutil', \"numpy>=1.10.0,<1.17 ; python_version=='2.7'\", \"numpy>=1.10.0 ; python_version>='3.5'\"]\n",
       "  \u001b[31m   \u001b[0m C:\\Program Files\\Python310\\lib\\site-packages\\setuptools\\dist.py:697: UserWarning: Usage of dash-separated 'description-file' will not be supported in future versions. Please use the underscore name 'description_file' instead\n",
       "  \u001b[31m   \u001b[0m   warnings.warn(\n",
       "  \u001b[31m   \u001b[0m C:\\Program Files\\Python310\\lib\\site-packages\\setuptools\\dist.py:697: UserWarning: Usage of dash-separated 'description-file' will not be supported in future versions. Please use the underscore name 'description_file' instead\n",
       "  \u001b[31m   \u001b[0m   warnings.warn(\n",
       "  \u001b[31m   \u001b[0m running bdist_wheel\n",
       "  \u001b[31m   \u001b[0m running build\n",
       "  \u001b[31m   \u001b[0m running build_ext\n",
       "  \u001b[31m   \u001b[0m Extra compilation arguments: ['/EHsc', '/openmp', '/O2', '/DVERSION_INFO=\\\\\"2.1.1\\\\\"']\n",
       "  \u001b[31m   \u001b[0m building 'nmslib' extension\n",
       "  \u001b[31m   \u001b[0m error: Microsoft Visual C++ 14.0 or greater is required. Get it with \"Microsoft C++ Build Tools\": https://visualstudio.microsoft.com/visual-cpp-build-tools/\n",
       "  \u001b[31m   \u001b[0m \u001b[31m[end of output]\u001b[0m\n",
       "  \n",
       "  \u001b[1;35mnote\u001b[0m: This error originates from a subprocess, and is likely not a problem with pip.\n"
      ]
     },
     "metadata": {},
     "output_type": "display_data"
    },
    {
     "data": {
      "text/html": [
       "<pre style=\"white-space:pre;overflow-x:auto;line-height:normal;font-family:Menlo,'DejaVu Sans Mono',consolas,'Courier New',monospace\"><span style=\"color: #800000; text-decoration-color: #800000\">  ERROR: Failed building wheel for nmslib\n",
       "</span></pre>\n"
      ],
      "text/plain": [
       "\u001b[31m  ERROR: Failed building wheel for nmslib\u001b[0m\u001b[31m\n",
       "\u001b[0m"
      ]
     },
     "metadata": {},
     "output_type": "display_data"
    },
    {
     "data": {
      "text/html": [
       "<pre style=\"white-space:pre;overflow-x:auto;line-height:normal;font-family:Menlo,'DejaVu Sans Mono',consolas,'Courier New',monospace\">  Running setup.py clean for nmslib\n",
       "</pre>\n"
      ],
      "text/plain": [
       "  Running setup.py clean for nmslib\n"
      ]
     },
     "metadata": {},
     "output_type": "display_data"
    },
    {
     "data": {
      "text/html": [
       "<pre style=\"white-space:pre;overflow-x:auto;line-height:normal;font-family:Menlo,'DejaVu Sans Mono',consolas,'Courier New',monospace\">Failed to build nmslib\n",
       "</pre>\n"
      ],
      "text/plain": [
       "Failed to build nmslib\n"
      ]
     },
     "metadata": {},
     "output_type": "display_data"
    },
    {
     "data": {
      "text/html": [
       "<pre style=\"white-space:pre;overflow-x:auto;line-height:normal;font-family:Menlo,'DejaVu Sans Mono',consolas,'Courier New',monospace\">Installing collected packages: pysbd, pybind11, psutil, conllu, nmslib, scispacy\n",
       "</pre>\n"
      ],
      "text/plain": [
       "Installing collected packages: pysbd, pybind11, psutil, conllu, nmslib, scispacy\n"
      ]
     },
     "metadata": {},
     "output_type": "display_data"
    },
    {
     "data": {
      "text/html": [
       "<pre style=\"white-space:pre;overflow-x:auto;line-height:normal;font-family:Menlo,'DejaVu Sans Mono',consolas,'Courier New',monospace\">  Running setup.py install for nmslib: started\n",
       "</pre>\n"
      ],
      "text/plain": [
       "  Running setup.py install for nmslib: started\n"
      ]
     },
     "metadata": {},
     "output_type": "display_data"
    },
    {
     "data": {
      "text/html": [
       "<pre style=\"white-space:pre;overflow-x:auto;line-height:normal;font-family:Menlo,'DejaVu Sans Mono',consolas,'Courier New',monospace\">  Running setup.py install for nmslib: finished with status 'error'\n",
       "</pre>\n"
      ],
      "text/plain": [
       "  Running setup.py install for nmslib: finished with status 'error'\n"
      ]
     },
     "metadata": {},
     "output_type": "display_data"
    },
    {
     "data": {
      "text/html": [
       "<pre style=\"white-space:pre;overflow-x:auto;line-height:normal;font-family:Menlo,'DejaVu Sans Mono',consolas,'Courier New',monospace\">  <span style=\"color: #800000; text-decoration-color: #800000; font-weight: bold\">error</span>: <span style=\"font-weight: bold\">subprocess-exited-with-error</span>\n",
       "  \n",
       "  <span style=\"color: #800000; text-decoration-color: #800000\">×</span> <span style=\"color: #008000; text-decoration-color: #008000\">Running setup.py install for nmslib</span> did not run successfully.\n",
       "  <span style=\"color: #800000; text-decoration-color: #800000\">│</span> exit code: <span style=\"color: #008080; text-decoration-color: #008080; font-weight: bold\">1</span>\n",
       "  <span style=\"color: #800000; text-decoration-color: #800000\">╰─&gt;</span> <span style=\"color: #800000; text-decoration-color: #800000\">[9 lines of output]</span>\n",
       "  <span style=\"color: #800000; text-decoration-color: #800000\">   </span> Dependence list: ['pybind11&lt;2.6.2', 'psutil', \"numpy&gt;=1.10.0,&lt;1.17 ; python_version=='2.7'\", \"numpy&gt;=1.10.0 ; python_version&gt;='3.5'\"]\n",
       "  <span style=\"color: #800000; text-decoration-color: #800000\">   </span> C:\\Program Files\\Python310\\lib\\site-packages\\setuptools\\dist.py:697: UserWarning: Usage of dash-separated 'description-file' will not be supported in future versions. Please use the underscore name 'description_file' instead\n",
       "  <span style=\"color: #800000; text-decoration-color: #800000\">   </span>   warnings.warn(\n",
       "  <span style=\"color: #800000; text-decoration-color: #800000\">   </span> running install\n",
       "  <span style=\"color: #800000; text-decoration-color: #800000\">   </span> running build\n",
       "  <span style=\"color: #800000; text-decoration-color: #800000\">   </span> running build_ext\n",
       "  <span style=\"color: #800000; text-decoration-color: #800000\">   </span> Extra compilation arguments: ['/EHsc', '/openmp', '/O2', '/DVERSION_INFO=\\\\\"2.1.1\\\\\"']\n",
       "  <span style=\"color: #800000; text-decoration-color: #800000\">   </span> building 'nmslib' extension\n",
       "  <span style=\"color: #800000; text-decoration-color: #800000\">   </span> error: Microsoft Visual C++ 14.0 or greater is required. Get it with \"Microsoft C++ Build Tools\": https://visualstudio.microsoft.com/visual-cpp-build-tools/\n",
       "  <span style=\"color: #800000; text-decoration-color: #800000\">   </span> <span style=\"color: #800000; text-decoration-color: #800000\">[end of output]</span>\n",
       "  \n",
       "  <span style=\"color: #800080; text-decoration-color: #800080; font-weight: bold\">note</span>: This error originates from a subprocess, and is likely not a problem with pip.\n",
       "</pre>\n"
      ],
      "text/plain": [
       "  \u001b[1;31merror\u001b[0m: \u001b[1msubprocess-exited-with-error\u001b[0m\n",
       "  \n",
       "  \u001b[31m×\u001b[0m \u001b[32mRunning setup.py install for nmslib\u001b[0m did not run successfully.\n",
       "  \u001b[31m│\u001b[0m exit code: \u001b[1;36m1\u001b[0m\n",
       "  \u001b[31m╰─>\u001b[0m \u001b[31m[9 lines of output]\u001b[0m\n",
       "  \u001b[31m   \u001b[0m Dependence list: ['pybind11<2.6.2', 'psutil', \"numpy>=1.10.0,<1.17 ; python_version=='2.7'\", \"numpy>=1.10.0 ; python_version>='3.5'\"]\n",
       "  \u001b[31m   \u001b[0m C:\\Program Files\\Python310\\lib\\site-packages\\setuptools\\dist.py:697: UserWarning: Usage of dash-separated 'description-file' will not be supported in future versions. Please use the underscore name 'description_file' instead\n",
       "  \u001b[31m   \u001b[0m   warnings.warn(\n",
       "  \u001b[31m   \u001b[0m running install\n",
       "  \u001b[31m   \u001b[0m running build\n",
       "  \u001b[31m   \u001b[0m running build_ext\n",
       "  \u001b[31m   \u001b[0m Extra compilation arguments: ['/EHsc', '/openmp', '/O2', '/DVERSION_INFO=\\\\\"2.1.1\\\\\"']\n",
       "  \u001b[31m   \u001b[0m building 'nmslib' extension\n",
       "  \u001b[31m   \u001b[0m error: Microsoft Visual C++ 14.0 or greater is required. Get it with \"Microsoft C++ Build Tools\": https://visualstudio.microsoft.com/visual-cpp-build-tools/\n",
       "  \u001b[31m   \u001b[0m \u001b[31m[end of output]\u001b[0m\n",
       "  \n",
       "  \u001b[1;35mnote\u001b[0m: This error originates from a subprocess, and is likely not a problem with pip.\n"
      ]
     },
     "metadata": {},
     "output_type": "display_data"
    },
    {
     "data": {
      "text/html": [
       "<pre style=\"white-space:pre;overflow-x:auto;line-height:normal;font-family:Menlo,'DejaVu Sans Mono',consolas,'Courier New',monospace\"><span style=\"color: #800000; text-decoration-color: #800000; font-weight: bold\">error</span>: <span style=\"font-weight: bold\">legacy-install-failure</span>\n",
       "\n",
       "<span style=\"color: #800000; text-decoration-color: #800000\">×</span> Encountered error while trying to install package.\n",
       "<span style=\"color: #800000; text-decoration-color: #800000\">╰─&gt;</span> nmslib\n",
       "\n",
       "<span style=\"color: #800080; text-decoration-color: #800080; font-weight: bold\">note</span>: This is an issue with the package mentioned above, not pip.\n",
       "<span style=\"color: #008080; text-decoration-color: #008080; font-weight: bold\">hint</span>: See above for output from the failure.\n",
       "</pre>\n"
      ],
      "text/plain": [
       "\u001b[1;31merror\u001b[0m: \u001b[1mlegacy-install-failure\u001b[0m\n",
       "\n",
       "\u001b[31m×\u001b[0m Encountered error while trying to install package.\n",
       "\u001b[31m╰─>\u001b[0m nmslib\n",
       "\n",
       "\u001b[1;35mnote\u001b[0m: This is an issue with the package mentioned above, not pip.\n",
       "\u001b[1;36mhint\u001b[0m: See above for output from the failure.\n"
      ]
     },
     "metadata": {},
     "output_type": "display_data"
    },
    {
     "data": {
      "text/plain": [
       "1"
      ]
     },
     "execution_count": 1,
     "metadata": {},
     "output_type": "execute_result"
    }
   ],
   "source": [
    "import pip\n",
    "# pip.main([\"install\", \"openpyxl\"])\n",
    "# pip.main([\"install\", \"scikit-learn\"])\n",
    "# pip.main([\"install\", \"spacy\"])\n",
    "# pip.main([\"install\", \"gensim\"])\n",
    "# pip.main([\"install\", \"string\"])\n",
    "# pip.main([\"install\", \"nltk\"])\n",
    "# pip.main([\"install\", \"en_core_sci_lg\"])\n",
    "pip.main([\"install\", \"scispacy\"])"
   ]
  },
  {
   "cell_type": "code",
   "execution_count": 3,
   "id": "3036fff7-1f40-424d-bed7-aa5b66d3581f",
   "metadata": {},
   "outputs": [],
   "source": [
    "# import xlrd2\n",
    "# # To open Workbook\n",
    "# wb = xlrd.open_workbook(loc)\n",
    "# sheet = wb.sheet_by_index(0)"
   ]
  },
  {
   "cell_type": "code",
   "execution_count": 1,
   "id": "f90c34bf-ee43-4d01-901c-b1b7f3dc711a",
   "metadata": {},
   "outputs": [],
   "source": [
    "import pandas as pd"
   ]
  },
  {
   "cell_type": "code",
   "execution_count": 4,
   "id": "7f3d80da-04bd-4ef0-9b4e-3ad569bea89b",
   "metadata": {},
   "outputs": [
    {
     "data": {
      "text/plain": [
       "{'random 5k':       ArticleID                                              Title  \\\n",
       " 0      34153941  Stable Coordination Variability in Overground ...   \n",
       " 1      34153942  Weak Hip Strength Increases Dynamic Knee Valgu...   \n",
       " 2      34153964  Current and Future Projections of Amyotrophic ...   \n",
       " 3      34153968  Disparities between Asian and Non-Asian Thromb...   \n",
       " 4      34153978  Maternal Factors Predicting Loss to Follow-Up ...   \n",
       " ...         ...                                                ...   \n",
       " 4994   34444567  Mind the Differences: How Diagnoses and Hospit...   \n",
       " 4995   34444568  The Ethics of Dying: Deciphering Pandemic-Resu...   \n",
       " 4996   34444569  Research on Adolescents Regarding the Indirect...   \n",
       " 4997   34444571  Pre-Intervention Effects of a Community-Based ...   \n",
       " 4998   34444572  Pharmacists' Role in Older Adults' Medication ...   \n",
       " \n",
       "                                                Abstract  \n",
       " 0     Coordination variability (CV) is commonly anal...  \n",
       " 1     Clinical Scenario: Dynamic knee valgus (DKV) i...  \n",
       " 2     Various methodologies have been reported to as...  \n",
       " 3     As outcomes for acute ischemic stroke (AIS) va...  \n",
       " 4     Because hearing loss in children can result in...  \n",
       " ...                                                 ...  \n",
       " 4994  Integrated care pathway (ICP) is a prevailing ...  \n",
       " 4995  The objective of medicine is to provide humans...  \n",
       " 4996  This research involved the participation of 30...  \n",
       " 4997  This study explores the impact of the 'pre-int...  \n",
       " 4998  Medication regimen complexity (MRC) may influe...  \n",
       " \n",
       " [4999 rows x 3 columns]}"
      ]
     },
     "execution_count": 4,
     "metadata": {},
     "output_type": "execute_result"
    }
   ],
   "source": [
    "excel_dict = pd.read_excel(r\"..\\data files\\Pubmed5k.xlsx\", sheet_name=None)\n",
    "excel_dict"
   ]
  },
  {
   "cell_type": "code",
   "execution_count": 3,
   "id": "0b667ba4-03f2-4dae-a1bc-f4e25c119f6c",
   "metadata": {},
   "outputs": [
    {
     "data": {
      "text/html": [
       "<div>\n",
       "<style scoped>\n",
       "    .dataframe tbody tr th:only-of-type {\n",
       "        vertical-align: middle;\n",
       "    }\n",
       "\n",
       "    .dataframe tbody tr th {\n",
       "        vertical-align: top;\n",
       "    }\n",
       "\n",
       "    .dataframe thead th {\n",
       "        text-align: right;\n",
       "    }\n",
       "</style>\n",
       "<table border=\"1\" class=\"dataframe\">\n",
       "  <thead>\n",
       "    <tr style=\"text-align: right;\">\n",
       "      <th></th>\n",
       "      <th>ArticleID</th>\n",
       "      <th>Title</th>\n",
       "      <th>Abstract</th>\n",
       "    </tr>\n",
       "  </thead>\n",
       "  <tbody>\n",
       "    <tr>\n",
       "      <th>0</th>\n",
       "      <td>34153941</td>\n",
       "      <td>Stable Coordination Variability in Overground ...</td>\n",
       "      <td>Coordination variability (CV) is commonly anal...</td>\n",
       "    </tr>\n",
       "    <tr>\n",
       "      <th>1</th>\n",
       "      <td>34153942</td>\n",
       "      <td>Weak Hip Strength Increases Dynamic Knee Valgu...</td>\n",
       "      <td>Clinical Scenario: Dynamic knee valgus (DKV) i...</td>\n",
       "    </tr>\n",
       "    <tr>\n",
       "      <th>2</th>\n",
       "      <td>34153964</td>\n",
       "      <td>Current and Future Projections of Amyotrophic ...</td>\n",
       "      <td>Various methodologies have been reported to as...</td>\n",
       "    </tr>\n",
       "    <tr>\n",
       "      <th>3</th>\n",
       "      <td>34153968</td>\n",
       "      <td>Disparities between Asian and Non-Asian Thromb...</td>\n",
       "      <td>As outcomes for acute ischemic stroke (AIS) va...</td>\n",
       "    </tr>\n",
       "    <tr>\n",
       "      <th>4</th>\n",
       "      <td>34153978</td>\n",
       "      <td>Maternal Factors Predicting Loss to Follow-Up ...</td>\n",
       "      <td>Because hearing loss in children can result in...</td>\n",
       "    </tr>\n",
       "    <tr>\n",
       "      <th>...</th>\n",
       "      <td>...</td>\n",
       "      <td>...</td>\n",
       "      <td>...</td>\n",
       "    </tr>\n",
       "    <tr>\n",
       "      <th>4994</th>\n",
       "      <td>34444567</td>\n",
       "      <td>Mind the Differences: How Diagnoses and Hospit...</td>\n",
       "      <td>Integrated care pathway (ICP) is a prevailing ...</td>\n",
       "    </tr>\n",
       "    <tr>\n",
       "      <th>4995</th>\n",
       "      <td>34444568</td>\n",
       "      <td>The Ethics of Dying: Deciphering Pandemic-Resu...</td>\n",
       "      <td>The objective of medicine is to provide humans...</td>\n",
       "    </tr>\n",
       "    <tr>\n",
       "      <th>4996</th>\n",
       "      <td>34444569</td>\n",
       "      <td>Research on Adolescents Regarding the Indirect...</td>\n",
       "      <td>This research involved the participation of 30...</td>\n",
       "    </tr>\n",
       "    <tr>\n",
       "      <th>4997</th>\n",
       "      <td>34444571</td>\n",
       "      <td>Pre-Intervention Effects of a Community-Based ...</td>\n",
       "      <td>This study explores the impact of the 'pre-int...</td>\n",
       "    </tr>\n",
       "    <tr>\n",
       "      <th>4998</th>\n",
       "      <td>34444572</td>\n",
       "      <td>Pharmacists' Role in Older Adults' Medication ...</td>\n",
       "      <td>Medication regimen complexity (MRC) may influe...</td>\n",
       "    </tr>\n",
       "  </tbody>\n",
       "</table>\n",
       "<p>4999 rows × 3 columns</p>\n",
       "</div>"
      ],
      "text/plain": [
       "      ArticleID                                              Title  \\\n",
       "0      34153941  Stable Coordination Variability in Overground ...   \n",
       "1      34153942  Weak Hip Strength Increases Dynamic Knee Valgu...   \n",
       "2      34153964  Current and Future Projections of Amyotrophic ...   \n",
       "3      34153968  Disparities between Asian and Non-Asian Thromb...   \n",
       "4      34153978  Maternal Factors Predicting Loss to Follow-Up ...   \n",
       "...         ...                                                ...   \n",
       "4994   34444567  Mind the Differences: How Diagnoses and Hospit...   \n",
       "4995   34444568  The Ethics of Dying: Deciphering Pandemic-Resu...   \n",
       "4996   34444569  Research on Adolescents Regarding the Indirect...   \n",
       "4997   34444571  Pre-Intervention Effects of a Community-Based ...   \n",
       "4998   34444572  Pharmacists' Role in Older Adults' Medication ...   \n",
       "\n",
       "                                               Abstract  \n",
       "0     Coordination variability (CV) is commonly anal...  \n",
       "1     Clinical Scenario: Dynamic knee valgus (DKV) i...  \n",
       "2     Various methodologies have been reported to as...  \n",
       "3     As outcomes for acute ischemic stroke (AIS) va...  \n",
       "4     Because hearing loss in children can result in...  \n",
       "...                                                 ...  \n",
       "4994  Integrated care pathway (ICP) is a prevailing ...  \n",
       "4995  The objective of medicine is to provide humans...  \n",
       "4996  This research involved the participation of 30...  \n",
       "4997  This study explores the impact of the 'pre-int...  \n",
       "4998  Medication regimen complexity (MRC) may influe...  \n",
       "\n",
       "[4999 rows x 3 columns]"
      ]
     },
     "execution_count": 3,
     "metadata": {},
     "output_type": "execute_result"
    }
   ],
   "source": [
    "excel_dict[\"random 5k\"]"
   ]
  },
  {
   "cell_type": "code",
   "execution_count": 5,
   "id": "070d0b3f-a698-4417-a437-1ab166216c32",
   "metadata": {},
   "outputs": [],
   "source": [
    "excel_dict[\"random 5k\"].to_csv(r\"..\\data files\\Pubmed5k.csv\", header=True, index=False)"
   ]
  },
  {
   "cell_type": "code",
   "execution_count": 6,
   "id": "f5ad554d-4efd-434d-9352-b8be16c5a254",
   "metadata": {},
   "outputs": [
    {
     "data": {
      "text/html": [
       "<div>\n",
       "<style scoped>\n",
       "    .dataframe tbody tr th:only-of-type {\n",
       "        vertical-align: middle;\n",
       "    }\n",
       "\n",
       "    .dataframe tbody tr th {\n",
       "        vertical-align: top;\n",
       "    }\n",
       "\n",
       "    .dataframe thead th {\n",
       "        text-align: right;\n",
       "    }\n",
       "</style>\n",
       "<table border=\"1\" class=\"dataframe\">\n",
       "  <thead>\n",
       "    <tr style=\"text-align: right;\">\n",
       "      <th></th>\n",
       "      <th>Title</th>\n",
       "      <th>Abstract</th>\n",
       "    </tr>\n",
       "    <tr>\n",
       "      <th>ArticleID</th>\n",
       "      <th></th>\n",
       "      <th></th>\n",
       "    </tr>\n",
       "  </thead>\n",
       "  <tbody>\n",
       "    <tr>\n",
       "      <th>34153941</th>\n",
       "      <td>Stable Coordination Variability in Overground ...</td>\n",
       "      <td>Coordination variability (CV) is commonly anal...</td>\n",
       "    </tr>\n",
       "    <tr>\n",
       "      <th>34153942</th>\n",
       "      <td>Weak Hip Strength Increases Dynamic Knee Valgu...</td>\n",
       "      <td>Clinical Scenario: Dynamic knee valgus (DKV) i...</td>\n",
       "    </tr>\n",
       "    <tr>\n",
       "      <th>34153964</th>\n",
       "      <td>Current and Future Projections of Amyotrophic ...</td>\n",
       "      <td>Various methodologies have been reported to as...</td>\n",
       "    </tr>\n",
       "    <tr>\n",
       "      <th>34153968</th>\n",
       "      <td>Disparities between Asian and Non-Asian Thromb...</td>\n",
       "      <td>As outcomes for acute ischemic stroke (AIS) va...</td>\n",
       "    </tr>\n",
       "    <tr>\n",
       "      <th>34153978</th>\n",
       "      <td>Maternal Factors Predicting Loss to Follow-Up ...</td>\n",
       "      <td>Because hearing loss in children can result in...</td>\n",
       "    </tr>\n",
       "    <tr>\n",
       "      <th>...</th>\n",
       "      <td>...</td>\n",
       "      <td>...</td>\n",
       "    </tr>\n",
       "    <tr>\n",
       "      <th>34444567</th>\n",
       "      <td>Mind the Differences: How Diagnoses and Hospit...</td>\n",
       "      <td>Integrated care pathway (ICP) is a prevailing ...</td>\n",
       "    </tr>\n",
       "    <tr>\n",
       "      <th>34444568</th>\n",
       "      <td>The Ethics of Dying: Deciphering Pandemic-Resu...</td>\n",
       "      <td>The objective of medicine is to provide humans...</td>\n",
       "    </tr>\n",
       "    <tr>\n",
       "      <th>34444569</th>\n",
       "      <td>Research on Adolescents Regarding the Indirect...</td>\n",
       "      <td>This research involved the participation of 30...</td>\n",
       "    </tr>\n",
       "    <tr>\n",
       "      <th>34444571</th>\n",
       "      <td>Pre-Intervention Effects of a Community-Based ...</td>\n",
       "      <td>This study explores the impact of the 'pre-int...</td>\n",
       "    </tr>\n",
       "    <tr>\n",
       "      <th>34444572</th>\n",
       "      <td>Pharmacists' Role in Older Adults' Medication ...</td>\n",
       "      <td>Medication regimen complexity (MRC) may influe...</td>\n",
       "    </tr>\n",
       "  </tbody>\n",
       "</table>\n",
       "<p>4999 rows × 2 columns</p>\n",
       "</div>"
      ],
      "text/plain": [
       "                                                       Title  \\\n",
       "ArticleID                                                      \n",
       "34153941   Stable Coordination Variability in Overground ...   \n",
       "34153942   Weak Hip Strength Increases Dynamic Knee Valgu...   \n",
       "34153964   Current and Future Projections of Amyotrophic ...   \n",
       "34153968   Disparities between Asian and Non-Asian Thromb...   \n",
       "34153978   Maternal Factors Predicting Loss to Follow-Up ...   \n",
       "...                                                      ...   \n",
       "34444567   Mind the Differences: How Diagnoses and Hospit...   \n",
       "34444568   The Ethics of Dying: Deciphering Pandemic-Resu...   \n",
       "34444569   Research on Adolescents Regarding the Indirect...   \n",
       "34444571   Pre-Intervention Effects of a Community-Based ...   \n",
       "34444572   Pharmacists' Role in Older Adults' Medication ...   \n",
       "\n",
       "                                                    Abstract  \n",
       "ArticleID                                                     \n",
       "34153941   Coordination variability (CV) is commonly anal...  \n",
       "34153942   Clinical Scenario: Dynamic knee valgus (DKV) i...  \n",
       "34153964   Various methodologies have been reported to as...  \n",
       "34153968   As outcomes for acute ischemic stroke (AIS) va...  \n",
       "34153978   Because hearing loss in children can result in...  \n",
       "...                                                      ...  \n",
       "34444567   Integrated care pathway (ICP) is a prevailing ...  \n",
       "34444568   The objective of medicine is to provide humans...  \n",
       "34444569   This research involved the participation of 30...  \n",
       "34444571   This study explores the impact of the 'pre-int...  \n",
       "34444572   Medication regimen complexity (MRC) may influe...  \n",
       "\n",
       "[4999 rows x 2 columns]"
      ]
     },
     "execution_count": 6,
     "metadata": {},
     "output_type": "execute_result"
    }
   ],
   "source": [
    "df = pd.read_csv(r\"..\\data files\\Pubmed5k.csv\", index_col=\"ArticleID\")\n",
    "df"
   ]
  },
  {
   "cell_type": "markdown",
   "id": "85ed18aa-c961-4c95-b229-93f891b8fdde",
   "metadata": {},
   "source": [
    "# EDA"
   ]
  },
  {
   "cell_type": "code",
   "execution_count": 5,
   "id": "c6f215da-e78a-4f70-a6a3-f6f915076710",
   "metadata": {},
   "outputs": [
    {
     "data": {
      "text/plain": [
       "(4999, 2)"
      ]
     },
     "execution_count": 5,
     "metadata": {},
     "output_type": "execute_result"
    }
   ],
   "source": [
    "df.shape"
   ]
  },
  {
   "cell_type": "code",
   "execution_count": 6,
   "id": "ef0bd3f6-2c32-473d-b6f8-6813260286a6",
   "metadata": {},
   "outputs": [
    {
     "data": {
      "text/plain": [
       "4999"
      ]
     },
     "execution_count": 6,
     "metadata": {},
     "output_type": "execute_result"
    }
   ],
   "source": [
    "# ensure that the column \"ArticleID\" is really valid to be an ID and not a fake name\n",
    "df.index.nunique()"
   ]
  },
  {
   "cell_type": "code",
   "execution_count": 7,
   "id": "4995d159-da28-493e-8aa1-067e84a08de1",
   "metadata": {},
   "outputs": [
    {
     "name": "stdout",
     "output_type": "stream",
     "text": [
      "<class 'pandas.core.frame.DataFrame'>\n",
      "Int64Index: 4999 entries, 34153941 to 34444572\n",
      "Data columns (total 2 columns):\n",
      " #   Column    Non-Null Count  Dtype \n",
      "---  ------    --------------  ----- \n",
      " 0   Title     4999 non-null   object\n",
      " 1   Abstract  4999 non-null   object\n",
      "dtypes: object(2)\n",
      "memory usage: 246.2+ KB\n"
     ]
    }
   ],
   "source": [
    "df.info()"
   ]
  },
  {
   "cell_type": "code",
   "execution_count": 8,
   "id": "ef89b88c-6f1c-451c-8d07-8117a6b77bfc",
   "metadata": {},
   "outputs": [
    {
     "data": {
      "text/plain": [
       "Title       0.0\n",
       "Abstract    0.0\n",
       "dtype: float64"
      ]
     },
     "execution_count": 8,
     "metadata": {},
     "output_type": "execute_result"
    }
   ],
   "source": [
    "df.isna().mean()"
   ]
  },
  {
   "cell_type": "markdown",
   "id": "9df16176-2480-4cf2-a2fa-40b530cb3366",
   "metadata": {},
   "source": [
    "#### there is no null values"
   ]
  },
  {
   "cell_type": "code",
   "execution_count": 9,
   "id": "c811dc53-dd5a-4e84-8743-5ccf59c2fa75",
   "metadata": {},
   "outputs": [
    {
     "data": {
      "text/plain": [
       "Title       4999\n",
       "Abstract    4989\n",
       "dtype: int64"
      ]
     },
     "execution_count": 9,
     "metadata": {},
     "output_type": "execute_result"
    }
   ],
   "source": [
    "df.nunique()"
   ]
  },
  {
   "cell_type": "markdown",
   "id": "f960c875-eaec-4b12-b1df-161ecc988e36",
   "metadata": {},
   "source": [
    "#### there are 10 values repeated in the column of \"Abstract\""
   ]
  },
  {
   "cell_type": "code",
   "execution_count": 10,
   "id": "6380eb34-32da-4b8f-8a5c-f824eb47b268",
   "metadata": {},
   "outputs": [
    {
     "data": {
      "text/html": [
       "<div>\n",
       "<style scoped>\n",
       "    .dataframe tbody tr th:only-of-type {\n",
       "        vertical-align: middle;\n",
       "    }\n",
       "\n",
       "    .dataframe tbody tr th {\n",
       "        vertical-align: top;\n",
       "    }\n",
       "\n",
       "    .dataframe thead th {\n",
       "        text-align: right;\n",
       "    }\n",
       "</style>\n",
       "<table border=\"1\" class=\"dataframe\">\n",
       "  <thead>\n",
       "    <tr style=\"text-align: right;\">\n",
       "      <th></th>\n",
       "      <th>Title</th>\n",
       "      <th>Abstract</th>\n",
       "    </tr>\n",
       "  </thead>\n",
       "  <tbody>\n",
       "    <tr>\n",
       "      <th>count</th>\n",
       "      <td>4999</td>\n",
       "      <td>4999</td>\n",
       "    </tr>\n",
       "    <tr>\n",
       "      <th>unique</th>\n",
       "      <td>4999</td>\n",
       "      <td>4989</td>\n",
       "    </tr>\n",
       "    <tr>\n",
       "      <th>top</th>\n",
       "      <td>Stable Coordination Variability in Overground ...</td>\n",
       "      <td>[Figure: see text].</td>\n",
       "    </tr>\n",
       "    <tr>\n",
       "      <th>freq</th>\n",
       "      <td>1</td>\n",
       "      <td>6</td>\n",
       "    </tr>\n",
       "  </tbody>\n",
       "</table>\n",
       "</div>"
      ],
      "text/plain": [
       "                                                    Title             Abstract\n",
       "count                                                4999                 4999\n",
       "unique                                               4999                 4989\n",
       "top     Stable Coordination Variability in Overground ...  [Figure: see text].\n",
       "freq                                                    1                    6"
      ]
     },
     "execution_count": 10,
     "metadata": {},
     "output_type": "execute_result"
    }
   ],
   "source": [
    "df.describe()"
   ]
  },
  {
   "cell_type": "markdown",
   "id": "b7bd5040-f910-4d4f-82db-f5b4136a1401",
   "metadata": {},
   "source": [
    "# Preprocessing"
   ]
  },
  {
   "cell_type": "code",
   "execution_count": 18,
   "id": "48c0055b-b808-4646-ab3e-1600d7f8eb0a",
   "metadata": {},
   "outputs": [
    {
     "data": {
      "text/plain": [
       "'Coordination variability (CV) is commonly analyzed to understand dynamical qualities of human locomotion. The purpose of this study was to develop guidelines for the number of trials required to inform the calculation of a stable mean lower limb CV during overground locomotion. Three-dimensional lower limb kinematics were captured for 10 recreational runners performing 20 trials each of preferred and fixed speed walking and running. Stance phase CV was calculated for 9 segment and joint couplings using a modified vector coding technique. The number of trials required to achieve a CV mean within 10% of 20 strides average was determined for each coupling and individual. The statistical outputs of mode (walking vs running) and speed (preferred vs fixed) were compared when informed by differing numbers of trials. A minimum of 11 trials were required for stable mean stance phase CV. With fewer than 11 trials, CV was underestimated and led to an oversight of significant differences between mode and speed. Future overground locomotion CV research in healthy populations using a vector coding approach should use 11 trials as a standard minimum. Researchers should be aware of the notable consequences of an insufficient number of trials for overall study findings.'"
      ]
     },
     "execution_count": 18,
     "metadata": {},
     "output_type": "execute_result"
    }
   ],
   "source": [
    "df.iloc[0, 1]"
   ]
  },
  {
   "cell_type": "code",
   "execution_count": 3,
   "id": "da52e4d2-e6c0-4858-8f86-686d7b5aedbf",
   "metadata": {},
   "outputs": [
    {
     "data": {
      "text/plain": [
       "'Stable Coordination Variability in Overground Walking and Running at Preferred and Fixed Speeds.'"
      ]
     },
     "execution_count": 3,
     "metadata": {},
     "output_type": "execute_result"
    }
   ],
   "source": [
    "df.iloc[0, 0]"
   ]
  },
  {
   "cell_type": "code",
   "execution_count": 17,
   "id": "f19d8530-2a14-4d13-937d-234c72bd4de6",
   "metadata": {},
   "outputs": [
    {
     "name": "stderr",
     "output_type": "stream",
     "text": [
      "[nltk_data] Downloading package stopwords to\n",
      "[nltk_data]     C:\\Users\\huzyfa\\AppData\\Roaming\\nltk_data...\n",
      "[nltk_data]   Package stopwords is already up-to-date!\n"
     ]
    },
    {
     "data": {
      "text/plain": [
       "['none',\n",
       " 'us',\n",
       " 'to',\n",
       " 'some',\n",
       " 'anyway',\n",
       " 'regarding',\n",
       " 'between',\n",
       " 'most',\n",
       " 'whence',\n",
       " 'down']"
      ]
     },
     "execution_count": 17,
     "metadata": {},
     "output_type": "execute_result"
    }
   ],
   "source": []
  },
  {
   "cell_type": "code",
   "execution_count": 1,
   "id": "9871452e-376b-4f0e-ad87-d7f0362b14bb",
   "metadata": {},
   "outputs": [
    {
     "ename": "ModuleNotFoundError",
     "evalue": "No module named 'spacy'",
     "output_type": "error",
     "traceback": [
      "\u001b[1;31m---------------------------------------------------------------------------\u001b[0m",
      "\u001b[1;31mModuleNotFoundError\u001b[0m                       Traceback (most recent call last)",
      "\u001b[1;32m~\\AppData\\Local\\Temp/ipykernel_9060/2413157460.py\u001b[0m in \u001b[0;36m<module>\u001b[1;34m\u001b[0m\n\u001b[1;32m----> 1\u001b[1;33m \u001b[1;32mimport\u001b[0m \u001b[0mspacy\u001b[0m\u001b[1;33m\u001b[0m\u001b[1;33m\u001b[0m\u001b[0m\n\u001b[0m",
      "\u001b[1;31mModuleNotFoundError\u001b[0m: No module named 'spacy'"
     ]
    }
   ],
   "source": [
    "import spacy\n"
   ]
  },
  {
   "cell_type": "code",
   "execution_count": 2,
   "id": "84842bcc-22b7-470c-a5fc-f0146a4fc8b1",
   "metadata": {},
   "outputs": [
    {
     "name": "stdout",
     "output_type": "stream",
     "text": [
      "# conda environments:\n",
      "#\n",
      "base                     C:\\Users\\huzyfa\\Anaconda3\n",
      "dg                       C:\\Users\\huzyfa\\Anaconda3\\envs\\dg\n",
      "hm                       C:\\Users\\huzyfa\\Anaconda3\\envs\\hm\n",
      "mp                    *  C:\\Users\\huzyfa\\Anaconda3\\envs\\mp\n",
      "                         C:\\Users\\huzyfa\\miniconda3\n",
      "\n"
     ]
    },
    {
     "name": "stderr",
     "output_type": "stream",
     "text": [
      "C:\\Users\\huzyfa\\Anaconda3\\lib\\site-packages\\requests\\__init__.py:91: RequestsDependencyWarning: urllib3 (1.26.9) or chardet (3.0.4) doesn't match a supported version!\n",
      "  RequestsDependencyWarning)\n"
     ]
    }
   ],
   "source": [
    "!conda info --envs"
   ]
  },
  {
   "cell_type": "code",
   "execution_count": 8,
   "id": "6fc2ed18-1208-4d93-ad85-e0958484fa1d",
   "metadata": {},
   "outputs": [],
   "source": [
    "# !pip freeze"
   ]
  },
  {
   "cell_type": "code",
   "execution_count": null,
   "id": "0a8007d6-2417-43a7-98ab-461059692b54",
   "metadata": {},
   "outputs": [],
   "source": [
    "from sklearn.feature_extraction.text import TfidfVectorizer\n",
    "def vectorize(text, maxx_features):\n",
    "    \n",
    "    vectorizer = TfidfVectorizer(max_features=maxx_features)\n",
    "    X = vectorizer.fit_transform(text)\n",
    "    return X"
   ]
  }
 ],
 "metadata": {
  "kernelspec": {
   "display_name": "Python 3 (ipykernel)",
   "language": "python",
   "name": "python3"
  },
  "language_info": {
   "codemirror_mode": {
    "name": "ipython",
    "version": 3
   },
   "file_extension": ".py",
   "mimetype": "text/x-python",
   "name": "python",
   "nbconvert_exporter": "python",
   "pygments_lexer": "ipython3",
   "version": "3.9.7"
  }
 },
 "nbformat": 4,
 "nbformat_minor": 5
}
