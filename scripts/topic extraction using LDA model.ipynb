{
 "cells": [
  {
   "cell_type": "markdown",
   "id": "75ad3c17-971b-452f-aa5d-f8c53c8f8526",
   "metadata": {
    "_uuid": "5e0d0f7c353809e4349e7476ff36adf02cb12cd0"
   },
   "source": [
    "# What is topic-modelling?\n",
    "In machine learning and natural language processing, a topic model is a type of statistical model for discovering the abstract \"topics\" that occur in a collection of documents. Topic modeling is a frequently used text-mining tool for discovery of hidden semantic structures in a text body. Intuitively, given that a document is about a particular topic, one would expect particular words to appear in the document more or less frequently: \"dog\" and \"bone\" will appear more often in documents about dogs, \"cat\" and \"meow\" will appear in documents about cats, and \"the\" and \"is\" will appear equally in both. A document typically concerns multiple topics in different proportions; thus, in a document that is 10% about cats and 90% about dogs, there would probably be about 9 times more dog words than cat words.\n",
    "\n",
    "The \"topics\" produced by topic modeling techniques are clusters of similar words. A topic model captures this intuition in a mathematical framework, which allows examining a set of documents and discovering, based on the statistics of the words in each, what the topics might be and what each document's balance of topics is. It involves various techniques of dimensionality reduction(mostly non-linear) and unsupervised learning like LDA, SVD, autoencoders etc."
   ]
  },
  {
   "cell_type": "code",
   "execution_count": 91,
   "id": "7cd1d5f3-6e06-4905-ae9b-08a66ac2f7b8",
   "metadata": {},
   "outputs": [],
   "source": [
    "import gensim\n",
    "import pandas as pd\n",
    "from tqdm import tqdm\n",
    "import matplotlib.pyplot as plt\n",
    "from pprint import pprint\n",
    "from sklearn.feature_extraction.text import TfidfVectorizer, CountVectorizer\n",
    "from sklearn.decomposition import LatentDirichletAllocation"
   ]
  },
  {
   "cell_type": "code",
   "execution_count": 2,
   "id": "c811f109-512c-47c8-b0e2-1b5d9cc3bd3a",
   "metadata": {},
   "outputs": [
    {
     "data": {
      "text/html": [
       "<div>\n",
       "<style scoped>\n",
       "    .dataframe tbody tr th:only-of-type {\n",
       "        vertical-align: middle;\n",
       "    }\n",
       "\n",
       "    .dataframe tbody tr th {\n",
       "        vertical-align: top;\n",
       "    }\n",
       "\n",
       "    .dataframe thead th {\n",
       "        text-align: right;\n",
       "    }\n",
       "</style>\n",
       "<table border=\"1\" class=\"dataframe\">\n",
       "  <thead>\n",
       "    <tr style=\"text-align: right;\">\n",
       "      <th></th>\n",
       "      <th>Title</th>\n",
       "      <th>Abstract</th>\n",
       "      <th>Abstract_processed</th>\n",
       "      <th>words_count</th>\n",
       "    </tr>\n",
       "    <tr>\n",
       "      <th>ArticleID</th>\n",
       "      <th></th>\n",
       "      <th></th>\n",
       "      <th></th>\n",
       "      <th></th>\n",
       "    </tr>\n",
       "  </thead>\n",
       "  <tbody>\n",
       "    <tr>\n",
       "      <th>34153941</th>\n",
       "      <td>Stable Coordination Variability in Overground ...</td>\n",
       "      <td>Coordination variability (CV) is commonly anal...</td>\n",
       "      <td>['coordination', 'variability', 'coordination'...</td>\n",
       "      <td>1421</td>\n",
       "    </tr>\n",
       "    <tr>\n",
       "      <th>34153942</th>\n",
       "      <td>Weak Hip Strength Increases Dynamic Knee Valgu...</td>\n",
       "      <td>Clinical Scenario: Dynamic knee valgus (DKV) i...</td>\n",
       "      <td>['clinical', 'scenario', 'dynamic', 'knee', 'v...</td>\n",
       "      <td>1941</td>\n",
       "    </tr>\n",
       "    <tr>\n",
       "      <th>34153964</th>\n",
       "      <td>Current and Future Projections of Amyotrophic ...</td>\n",
       "      <td>Various methodologies have been reported to as...</td>\n",
       "      <td>['methodology', 'reported', 'ass', 'real', 'wo...</td>\n",
       "      <td>1821</td>\n",
       "    </tr>\n",
       "    <tr>\n",
       "      <th>34153968</th>\n",
       "      <td>Disparities between Asian and Non-Asian Thromb...</td>\n",
       "      <td>As outcomes for acute ischemic stroke (AIS) va...</td>\n",
       "      <td>['outcome', 'acute', 'ischemic', 'stroke', 'ac...</td>\n",
       "      <td>2358</td>\n",
       "    </tr>\n",
       "    <tr>\n",
       "      <th>34153978</th>\n",
       "      <td>Maternal Factors Predicting Loss to Follow-Up ...</td>\n",
       "      <td>Because hearing loss in children can result in...</td>\n",
       "      <td>['hearing', 'loss', 'child', 'result', 'develo...</td>\n",
       "      <td>1339</td>\n",
       "    </tr>\n",
       "    <tr>\n",
       "      <th>...</th>\n",
       "      <td>...</td>\n",
       "      <td>...</td>\n",
       "      <td>...</td>\n",
       "      <td>...</td>\n",
       "    </tr>\n",
       "    <tr>\n",
       "      <th>34444567</th>\n",
       "      <td>Mind the Differences: How Diagnoses and Hospit...</td>\n",
       "      <td>Integrated care pathway (ICP) is a prevailing ...</td>\n",
       "      <td>['integrated', 'care', 'pathway', 'integrated'...</td>\n",
       "      <td>1456</td>\n",
       "    </tr>\n",
       "    <tr>\n",
       "      <th>34444568</th>\n",
       "      <td>The Ethics of Dying: Deciphering Pandemic-Resu...</td>\n",
       "      <td>The objective of medicine is to provide humans...</td>\n",
       "      <td>['objective', 'medicine', 'provide', 'human', ...</td>\n",
       "      <td>1286</td>\n",
       "    </tr>\n",
       "    <tr>\n",
       "      <th>34444569</th>\n",
       "      <td>Research on Adolescents Regarding the Indirect...</td>\n",
       "      <td>This research involved the participation of 30...</td>\n",
       "      <td>['research', 'involved', 'participation', 'chi...</td>\n",
       "      <td>850</td>\n",
       "    </tr>\n",
       "    <tr>\n",
       "      <th>34444571</th>\n",
       "      <td>Pre-Intervention Effects of a Community-Based ...</td>\n",
       "      <td>This study explores the impact of the 'pre-int...</td>\n",
       "      <td>['study', 'explores', 'impact', 'pre', 'interv...</td>\n",
       "      <td>1653</td>\n",
       "    </tr>\n",
       "    <tr>\n",
       "      <th>34444572</th>\n",
       "      <td>Pharmacists' Role in Older Adults' Medication ...</td>\n",
       "      <td>Medication regimen complexity (MRC) may influe...</td>\n",
       "      <td>['medication', 'regimen', 'complexity', 'medic...</td>\n",
       "      <td>1064</td>\n",
       "    </tr>\n",
       "  </tbody>\n",
       "</table>\n",
       "<p>4989 rows × 4 columns</p>\n",
       "</div>"
      ],
      "text/plain": [
       "                                                       Title  \\\n",
       "ArticleID                                                      \n",
       "34153941   Stable Coordination Variability in Overground ...   \n",
       "34153942   Weak Hip Strength Increases Dynamic Knee Valgu...   \n",
       "34153964   Current and Future Projections of Amyotrophic ...   \n",
       "34153968   Disparities between Asian and Non-Asian Thromb...   \n",
       "34153978   Maternal Factors Predicting Loss to Follow-Up ...   \n",
       "...                                                      ...   \n",
       "34444567   Mind the Differences: How Diagnoses and Hospit...   \n",
       "34444568   The Ethics of Dying: Deciphering Pandemic-Resu...   \n",
       "34444569   Research on Adolescents Regarding the Indirect...   \n",
       "34444571   Pre-Intervention Effects of a Community-Based ...   \n",
       "34444572   Pharmacists' Role in Older Adults' Medication ...   \n",
       "\n",
       "                                                    Abstract  \\\n",
       "ArticleID                                                      \n",
       "34153941   Coordination variability (CV) is commonly anal...   \n",
       "34153942   Clinical Scenario: Dynamic knee valgus (DKV) i...   \n",
       "34153964   Various methodologies have been reported to as...   \n",
       "34153968   As outcomes for acute ischemic stroke (AIS) va...   \n",
       "34153978   Because hearing loss in children can result in...   \n",
       "...                                                      ...   \n",
       "34444567   Integrated care pathway (ICP) is a prevailing ...   \n",
       "34444568   The objective of medicine is to provide humans...   \n",
       "34444569   This research involved the participation of 30...   \n",
       "34444571   This study explores the impact of the 'pre-int...   \n",
       "34444572   Medication regimen complexity (MRC) may influe...   \n",
       "\n",
       "                                          Abstract_processed  words_count  \n",
       "ArticleID                                                                  \n",
       "34153941   ['coordination', 'variability', 'coordination'...         1421  \n",
       "34153942   ['clinical', 'scenario', 'dynamic', 'knee', 'v...         1941  \n",
       "34153964   ['methodology', 'reported', 'ass', 'real', 'wo...         1821  \n",
       "34153968   ['outcome', 'acute', 'ischemic', 'stroke', 'ac...         2358  \n",
       "34153978   ['hearing', 'loss', 'child', 'result', 'develo...         1339  \n",
       "...                                                      ...          ...  \n",
       "34444567   ['integrated', 'care', 'pathway', 'integrated'...         1456  \n",
       "34444568   ['objective', 'medicine', 'provide', 'human', ...         1286  \n",
       "34444569   ['research', 'involved', 'participation', 'chi...          850  \n",
       "34444571   ['study', 'explores', 'impact', 'pre', 'interv...         1653  \n",
       "34444572   ['medication', 'regimen', 'complexity', 'medic...         1064  \n",
       "\n",
       "[4989 rows x 4 columns]"
      ]
     },
     "execution_count": 2,
     "metadata": {},
     "output_type": "execute_result"
    }
   ],
   "source": [
    "df = pd.read_csv(r\"..\\data files\\Pubmed5k_processed.csv\", index_col=\"ArticleID\")\n",
    "df"
   ]
  },
  {
   "cell_type": "markdown",
   "id": "677298cb-ff2a-409f-8376-213e48e8277d",
   "metadata": {},
   "source": [
    "## gensim implementation of LDA"
   ]
  },
  {
   "cell_type": "code",
   "execution_count": 122,
   "id": "36e4576d-75e1-4343-bac6-431fe87abaa8",
   "metadata": {},
   "outputs": [],
   "source": [
    "# Create Corpus\n",
    "texts = [df['Abstract_processed']]\n",
    "\n",
    "# Create Dictionary\n",
    "id2word = gensim.corpora.Dictionary(documents=texts)\n",
    "\n",
    "# id2word.filter_extremes(no_below=15,no_above=0.5)\n",
    "\n",
    "# Converting list of documents (corpus) into Document Term Matrix using the dictionary(bow) method\n",
    "corpus = [id2word.doc2bow(txt) for txt in texts]"
   ]
  },
  {
   "cell_type": "code",
   "execution_count": 63,
   "id": "95ac1e90-224a-4cc6-9299-c9386a44af58",
   "metadata": {},
   "outputs": [],
   "source": [
    "def compute_coherence_values(dictionary, corpus, texts, limit, start=2, step=3):\n",
    "    \"\"\"\n",
    "    Compute c_v coherence for various number of topics\n",
    "\n",
    "    Parameters:\n",
    "    ----------\n",
    "    dictionary : Gensim dictionary\n",
    "    corpus : Gensim corpus\n",
    "    texts : List of input texts\n",
    "    limit : Max num of topics\n",
    "\n",
    "    Returns:\n",
    "    -------\n",
    "    model_list : List of LDA topic models\n",
    "    coherence_values : Coherence values corresponding to the LDA model with respective number of topics\n",
    "    \"\"\"\n",
    "    \n",
    "    coherence_values = []\n",
    "    model_list = []\n",
    "    \n",
    "    for num_topics in tqdm(range(start, limit, step)):\n",
    "        model = gensim.models.ldamodel.LdaModel(corpus=corpus, num_topics=num_topics, id2word=id2word, random_state=7)\n",
    "        model_list.append(model)\n",
    "        coherencemodel = gensim.models.CoherenceModel(model=model, texts=texts, dictionary=dictionary)\n",
    "        coherence_values.append(coherencemodel.get_coherence())\n",
    "\n",
    "    return model_list, coherence_values"
   ]
  },
  {
   "cell_type": "code",
   "execution_count": 64,
   "id": "829296d5-92ab-4d30-b439-4a72c4578d33",
   "metadata": {},
   "outputs": [
    {
     "name": "stderr",
     "output_type": "stream",
     "text": [
      "100%|██████████████████████████████████████████████████████████████████████████████████| 30/30 [02:27<00:00,  4.90s/it]"
     ]
    },
    {
     "name": "stdout",
     "output_type": "stream",
     "text": [
      "Num Topics = 1  has Coherence Value of 0.8053\n",
      "Num Topics = 2  has Coherence Value of 0.8056\n",
      "Num Topics = 3  has Coherence Value of 0.8019\n",
      "Num Topics = 4  has Coherence Value of 0.7845\n",
      "Num Topics = 5  has Coherence Value of 0.7899\n",
      "Num Topics = 6  has Coherence Value of 0.7967\n",
      "Num Topics = 7  has Coherence Value of 0.777\n",
      "Num Topics = 8  has Coherence Value of 0.7762\n",
      "Num Topics = 9  has Coherence Value of 0.7889\n",
      "Num Topics = 10  has Coherence Value of 0.7847\n",
      "Num Topics = 11  has Coherence Value of 0.7889\n",
      "Num Topics = 12  has Coherence Value of 0.7943\n",
      "Num Topics = 13  has Coherence Value of 0.7932\n",
      "Num Topics = 14  has Coherence Value of 0.7962\n",
      "Num Topics = 15  has Coherence Value of 0.7971\n",
      "Num Topics = 16  has Coherence Value of 0.7966\n",
      "Num Topics = 17  has Coherence Value of 0.7946\n",
      "Num Topics = 18  has Coherence Value of 0.7952\n",
      "Num Topics = 19  has Coherence Value of 0.7986\n",
      "Num Topics = 20  has Coherence Value of 0.7981\n",
      "Num Topics = 21  has Coherence Value of 0.7935\n",
      "Num Topics = 22  has Coherence Value of 0.7923\n",
      "Num Topics = 23  has Coherence Value of 0.7894\n",
      "Num Topics = 24  has Coherence Value of 0.7873\n",
      "Num Topics = 25  has Coherence Value of 0.7914\n",
      "Num Topics = 26  has Coherence Value of 0.7892\n",
      "Num Topics = 27  has Coherence Value of 0.7817\n",
      "Num Topics = 28  has Coherence Value of 0.7869\n",
      "Num Topics = 29  has Coherence Value of 0.7893\n",
      "Num Topics = 30  has Coherence Value of 0.7869\n"
     ]
    },
    {
     "name": "stderr",
     "output_type": "stream",
     "text": [
      "\n"
     ]
    },
    {
     "data": {
      "image/png": "[encoded data removed]",
      "text/plain": [
       "<Figure size 432x288 with 1 Axes>"
      ]
     },
     "metadata": {
      "needs_background": "light"
     },
     "output_type": "display_data"
    }
   ],
   "source": [
    "# Can take a long time to run.\n",
    "\n",
    "start=1; limit=31; step=1;\n",
    "x = range(start, limit, step)\n",
    "\n",
    "model_list, coherence_values = compute_coherence_values(dictionary=id2word, corpus=corpus, texts=texts, \n",
    "                                                        start=start, limit=limit, step=step)\n",
    "# Print the coherence scores\n",
    "for m, cv in zip(x, coherence_values):\n",
    "    print(\"Num Topics =\", m, \" has Coherence Value of\", round(cv, 4))\n",
    "    \n",
    "# Show graph\n",
    "plt.plot(x, coherence_values)\n",
    "plt.xlabel(\"Num Topics\")\n",
    "plt.ylabel(\"Coherence score\")\n",
    "plt.grid()\n",
    "plt.show()"
   ]
  },
  {
   "cell_type": "markdown",
   "id": "aa5c4841-fbee-4bd2-8c71-b0171aa002bf",
   "metadata": {},
   "source": [
    "from the figure above best number of topics is 2, but i'm affraid that this value is a fake, or some misleading, it's improbable that 5000 doc speak about just 2 topics, also most scripts i saw select 10 or 20, in case 2 is the best so i get the second best value, and in case of misleading so i less prone to that propability so i will try the second highest value which is 17"
   ]
  },
  {
   "cell_type": "code",
   "execution_count": 161,
   "id": "cb3524d2-1e7d-4bac-b09c-8daa426bae36",
   "metadata": {},
   "outputs": [],
   "source": [
    "num_topics = 17\n",
    "# num_topics = 2"
   ]
  },
  {
   "cell_type": "code",
   "execution_count": 162,
   "id": "de12ca6c-4633-4d36-bf8b-c63bafc9ba0a",
   "metadata": {},
   "outputs": [],
   "source": [
    "# df.drop(df[df.words_count<(num_topics)].index, inplace=True, axis=0)"
   ]
  },
  {
   "cell_type": "code",
   "execution_count": 196,
   "id": "17d6d3c0-71f1-4893-bc20-9482f778512a",
   "metadata": {
    "tags": []
   },
   "outputs": [],
   "source": [
    "# Select the model and print the topics\n",
    "lda_model = gensim.models.ldamodel.LdaModel(corpus=corpus, num_topics=num_topics, id2word=id2word, random_state=7)\n",
    "\n",
    "model_topics = lda_model.show_topics(formatted=False, num_topics=num_topics)"
   ]
  },
  {
   "cell_type": "code",
   "execution_count": 226,
   "id": "8835eb9b-ec0e-4ffd-81c4-cf50a5eabbaa",
   "metadata": {},
   "outputs": [
    {
     "ename": "SyntaxError",
     "evalue": "invalid syntax (235122230.py, line 1)",
     "output_type": "error",
     "traceback": [
      "\u001b[1;36m  Input \u001b[1;32mIn [226]\u001b[1;36m\u001b[0m\n\u001b[1;33m    model_topics[topic_number][<0>]\u001b[0m\n\u001b[1;37m                               ^\u001b[0m\n\u001b[1;31mSyntaxError\u001b[0m\u001b[1;31m:\u001b[0m invalid syntax\n"
     ]
    }
   ],
   "source": [
    "model_topics[topic_number][<0>]\n",
    "model_topics[topic_number][<1>][0->num_words][0] list of words\n",
    "model_topics[topic_number][<1>][0->num_words][1] probability"
   ]
  },
  {
   "cell_type": "code",
   "execution_count": 227,
   "id": "e6cce22e-fd2e-4e6a-858f-5e0256876f5a",
   "metadata": {},
   "outputs": [
    {
     "data": {
      "text/plain": [
       "\"['mountainous', 'region', 'highly', 'hazardous', 'hazard', 'lead', 'loss', 'human', 'life', 'hindu', 'kush', 'himalaya', 'hindu', 'kush', 'himalaya', 'like', 'mountainous', 'region', 'site', 'multiple', 'overlapping', 'natural', 'hazard', 'distribution', 'multi', 'hazard', 'risk', 'population', 'exposed', 'poorly', 'understood', 'present', 'high', 'resolution', 'transboundary', 'model', 'describing', 'susceptibility', 'flood', 'landslide', 'wildfire', 'understand', 'population', 'exposure', 'multi', 'hazard', 'risk', 'hindu', 'kush', 'himalaya', 'model', 'created', 'historical', 'remotely', 'sensed', 'data', 'hazard', 'catalog', 'maximum', 'entropy', 'maximum', 'entropy', 'machine', 'learning', 'technique', 'result', 'human', 'settlement', 'hindu', 'kush', 'himalaya', 'disproportionately', 'concentrated', 'area', 'high', 'multi', 'hazard', 'risk', 'contrast', 'low', 'hazard', 'area', 'disproportionately', 'unpopulated', 'nearly', 'half', 'population', 'region', 'life', 'area', 'highly', 'susceptible', 'hazard', 'warm', 'low', 'altitude', 'foothill', 'area', 'perennially', 'moist', 'soil', 'identified', 'highly', 'susceptible', 'multiple', 'hazard', 'area', 'comprises', 'study', 'region', 'home', 'population', 'result', 'area', 'susceptible', 'multiple', 'hazard', 'major', 'corridor', 'current', 'migration', 'urban', 'expansion', 'suggesting', 'current', 'rate', 'pattern', 'urbanization', 'continue', 'people', 'risk', 'study', 'establishes', 'population', 'hindu', 'kush', 'himalaya', 'concentrated', 'area', 'susceptible', 'multiple', 'hazard', 'suggests', 'current', 'pattern', 'human', 'movement', 'continue', 'increase', 'exposure', 'multi', 'hazard', 'hindu', 'kush', 'himalaya']\""
      ]
     },
     "execution_count": 227,
     "metadata": {},
     "output_type": "execute_result"
    }
   ],
   "source": [
    "model_topics[0][1][9][0]"
   ]
  },
  {
   "cell_type": "code",
   "execution_count": 202,
   "id": "99221616-b9d1-445c-9685-87abd5f9dfd5",
   "metadata": {},
   "outputs": [
    {
     "name": "stdout",
     "output_type": "stream",
     "text": [
      "0\n",
      "1\n",
      "2\n",
      "3\n",
      "4\n",
      "5\n",
      "6\n",
      "7\n",
      "8\n",
      "9\n",
      "10\n",
      "11\n",
      "12\n",
      "13\n",
      "14\n",
      "15\n",
      "16\n"
     ]
    }
   ],
   "source": [
    "for i in range(17):\n",
    "    print(model_topics[i][0])"
   ]
  },
  {
   "cell_type": "code",
   "execution_count": null,
   "id": "e4327233-86ef-4017-bdcc-e211bd5dfba1",
   "metadata": {},
   "outputs": [],
   "source": []
  },
  {
   "cell_type": "code",
   "execution_count": 150,
   "id": "c1717960-e3da-44ca-abe0-5a92aace0c13",
   "metadata": {},
   "outputs": [
    {
     "data": {
      "text/plain": [
       "'0.000*\"[\\'clinical\\', \\'practice\\', \\'guideline\\', \\'clinical\\', \\'practice\\', \\'guideline\\', \\'synthesise\\', \\'latest\\', \\'evidence\\', \\'support\\', \\'clinical\\', \\'patient\\', \\'decision\\', \\'making\\', \\'cpg\\', \\'adherent\\', \\'care\\', \\'associated\\', \\'improved\\', \\'patient\\', \\'survival\\', \\'outcome\\', \\'adherence\\', \\'rate\\', \\'low\\', \\'cancer\\', \\'stream\\', \\'australia\\', \\'greater\\', \\'understanding\\', \\'specific\\', \\'barrier\\', \\'cancer\\', \\'treatment\\', \\'cpg\\', \\'adherence\\', \\'warranted\\', \\'inform\\', \\'future\\', \\'implementation\\', \\'strategy\\', \\'paper\\', \\'present\\', \\'protocol\\', \\'systematic\\', \\'review\\', \\'aim\\', \\'determine\\', \\'cancer\\', \\'treatment\\', \\'cpg\\', \\'adherence\\', \\'rate\\', \\'australia\\', \\'variety\\', \\'common\\', \\'cancer\\', \\'identify\\', \\'factor\\', \\'associated\\', \\'adherence\\', \\'clinical\\', \\'practice\\', \\'guideline\\', \\'association\\', \\'cpg\\', \\'adherence\\', \\'patient\\', \\'outcome\\', \\'database\\', \\'searched\\', \\'ovid\\', \\'medline\\', \\'psychinfo\\', \\'embase\\', \\'scopus\\', \\'web\\', \\'science\\', \\'eligible\\', \\'study\\', \\'evaluating\\', \\'adherence\\', \\'rate\\', \\'cancer\\', \\'treatment\\', \\'clinical\\', \\'practice\\', \\'guideline\\', \\'australia\\', \\'team\\', \\'reviewer\\', \\'screen\\', \\'abstract\\', \\'pair\\', \\'according\\', \\'predetermined\\', \\'inclusion\\', \\'criterion\\', \\'review\\', \\'text\\', \\'eligible\\', \\'study\\', \\'included\\', \\'study\\', \\'assessed\\', \\'quality\\', \\'risk\\', \\'bias\\', \\'data\\', \\'extracted\\', \\'predefined\\', \\'data\\', \\'extraction\\', \\'template\\', \\'frequency\\', \\'rate\\', \\'adherence\\', \\'clinical\\', \\'practice\\', \\'guideline\\', \\'factor\\', \\'associated\\', \\'adherence\\', \\'clinical\\', \\'practice\\', \\'guideline\\', \\'reported\\', \\'patient\\', \\'outcome\\', \\'rate\\', \\'relative\\', \\'risk\\', \\'ratio\\', \\'year\\', \\'survival\\', \\'rate\\', \\'associated\\', \\'adherence\\', \\'clinical\\', \\'practice\\', \\'guideline\\', \\'described\\', \\'applicable\\', \\'pooled\\', \\'estimate\\', \\'rate\\', \\'adherence\\', \\'calculated\\', \\'conducting\\', \\'random\\', \\'effect\\', \\'analysis\\', \\'systematic\\', \\'review\\', \\'adhere\\', \\'preferred\\', \\'reporting\\', \\'item\\', \\'systematic\\', \\'review\\', \\'analysis\\', \\'guideline\\', \\'ethic\\', \\'approval\\', \\'required\\', \\'review\\', \\'present\\', \\'anonymised\\', \\'data\\', \\'published\\', \\'study\\', \\'result\\', \\'study\\', \\'form\\', \\'doctoral\\', \\'dissertation\\', \\'mb\\', \\'published\\', \\'journal\\', \\'presented\\', \\'conference\\', \\'academic\\', \\'presentation\\']\"'"
      ]
     },
     "execution_count": 150,
     "metadata": {},
     "output_type": "execute_result"
    }
   ],
   "source": [
    "# num_topics mean: how many topics want to extract \n",
    "# num_words: the number of words that want per topic\n",
    "\n",
    "# pprint(\n",
    "lda_model.print_topics(num_words=1, num_topics=-1)[0][1]\n",
    "# )"
   ]
  },
  {
   "cell_type": "code",
   "execution_count": 133,
   "id": "32989473-e814-4b9a-9b68-5b849bf164a5",
   "metadata": {},
   "outputs": [
    {
     "data": {
      "text/plain": [
       "4"
      ]
     },
     "execution_count": 133,
     "metadata": {},
     "output_type": "execute_result"
    }
   ],
   "source": [
    "len(lda_model[corpus][0])"
   ]
  },
  {
   "cell_type": "code",
   "execution_count": 248,
   "id": "27d37341-5a8f-4f96-9c8a-1254e9dab67c",
   "metadata": {},
   "outputs": [
    {
     "name": "stdout",
     "output_type": "stream",
     "text": [
      "0 [(3, 0.29012623), (5, 0.06956788), (11, 0.62265515), (14, 0.01746323)]\n"
     ]
    }
   ],
   "source": [
    "for i, row in enumerate(lda_model[corpus]):\n",
    "    print(i, row)"
   ]
  },
  {
   "cell_type": "code",
   "execution_count": 230,
   "id": "31e4f980-44a2-4736-9fb1-164461511a27",
   "metadata": {},
   "outputs": [
    {
     "name": "stderr",
     "output_type": "stream",
     "text": [
      "C:\\Users\\huzyfa\\AppData\\Local\\Temp\\ipykernel_10436\\218311220.py:13: FutureWarning: The frame.append method is deprecated and will be removed from pandas in a future version. Use pandas.concat instead.\n",
      "  sent_topics_df = sent_topics_df.append(pd.Series([int(topic_num), round(prop_topic,4), topic_keywords]), ignore_index=True)\n"
     ]
    },
    {
     "data": {
      "text/html": [
       "<div>\n",
       "<style scoped>\n",
       "    .dataframe tbody tr th:only-of-type {\n",
       "        vertical-align: middle;\n",
       "    }\n",
       "\n",
       "    .dataframe tbody tr th {\n",
       "        vertical-align: top;\n",
       "    }\n",
       "\n",
       "    .dataframe thead th {\n",
       "        text-align: right;\n",
       "    }\n",
       "</style>\n",
       "<table border=\"1\" class=\"dataframe\">\n",
       "  <thead>\n",
       "    <tr style=\"text-align: right;\">\n",
       "      <th></th>\n",
       "      <th>Document_No</th>\n",
       "      <th>Dominant_Topic</th>\n",
       "      <th>Topic_Perc_Contrib</th>\n",
       "      <th>Keywords</th>\n",
       "      <th>Text</th>\n",
       "    </tr>\n",
       "  </thead>\n",
       "  <tbody>\n",
       "    <tr>\n",
       "      <th>0</th>\n",
       "      <td>0</td>\n",
       "      <td>11</td>\n",
       "      <td>0.6221</td>\n",
       "      <td>['lignans', 'schisandra', 'chinensis', 'turcz'...</td>\n",
       "      <td>ArticleID\n",
       "34153941    ['coordination', 'variab...</td>\n",
       "    </tr>\n",
       "  </tbody>\n",
       "</table>\n",
       "</div>"
      ],
      "text/plain": [
       "   Document_No  Dominant_Topic  Topic_Perc_Contrib  \\\n",
       "0            0              11              0.6221   \n",
       "\n",
       "                                            Keywords  \\\n",
       "0  ['lignans', 'schisandra', 'chinensis', 'turcz'...   \n",
       "\n",
       "                                                Text  \n",
       "0  ArticleID\n",
       "34153941    ['coordination', 'variab...  "
      ]
     },
     "execution_count": 230,
     "metadata": {},
     "output_type": "execute_result"
    }
   ],
   "source": [
    "def format_topics_sentences(ldamodel=lda_model, corpus=corpus, texts=texts):\n",
    "    # Init output\n",
    "    sent_topics_df = pd.DataFrame()\n",
    "\n",
    "    # Get main topic in each document\n",
    "    for i, row in enumerate(ldamodel[corpus]):\n",
    "        row = sorted(row, key=lambda x: (x[1]), reverse=True)\n",
    "        # Get the Dominant topic, Perc Contribution and Keywords for each document\n",
    "        for j, (topic_num, prop_topic) in enumerate(row):\n",
    "            if j == 0:  # => dominant topic\n",
    "                wp = ldamodel.show_topic(topic_num)\n",
    "                topic_keywords = \", \".join([word for word, prop in wp])\n",
    "                sent_topics_df = sent_topics_df.append(pd.Series([int(topic_num), round(prop_topic,4), topic_keywords]), ignore_index=True)\n",
    "            if j == 1:  # => dominant topic\n",
    "                wp = ldamodel.show_topic(topic_num)\n",
    "                topic_keywords = \", \".join([word for word, prop in wp])\n",
    "                sent_topics_df = sent_topics_df.append(pd.Series([int(topic_num), round(prop_topic,4), topic_keywords]), ignore_index=True)\n",
    "            if j == 2:  # => dominant topic\n",
    "                wp = ldamodel.show_topic(topic_num)\n",
    "                topic_keywords = \", \".join([word for word, prop in wp])\n",
    "                sent_topics_df = sent_topics_df.append(pd.Series([int(topic_num), round(prop_topic,4), topic_keywords]), ignore_index=True)\n",
    "            else:\n",
    "                break\n",
    "    sent_topics_df.columns = ['Dominant_Topic', 'Perc_Contribution', 'Topic_Keywords']\n",
    "\n",
    "    # Add original text to the end of the output\n",
    "    contents = pd.Series(texts)\n",
    "    sent_topics_df = pd.concat([sent_topics_df, contents], axis=1)\n",
    "    return(sent_topics_df)\n",
    "\n",
    "\n",
    "df_topic_sents_keywords = format_topics_sentences(ldamodel=lda_model, corpus=corpus, texts=texts)\n",
    "\n",
    "# Format\n",
    "df_dominant_topic = df_topic_sents_keywords.reset_index()\n",
    "df_dominant_topic.columns = ['Document_No', 'Dominant_Topic', 'Topic_Perc_Contrib', 'Keywords', 'Text']\n",
    "\n",
    "# Show\n",
    "df_dominant_topic.head(10)"
   ]
  },
  {
   "cell_type": "code",
   "execution_count": 71,
   "id": "bc933d87-ab10-49a2-9f74-68135b7bdd19",
   "metadata": {},
   "outputs": [
    {
     "data": {
      "text/html": [
       "<div>\n",
       "<style scoped>\n",
       "    .dataframe tbody tr th:only-of-type {\n",
       "        vertical-align: middle;\n",
       "    }\n",
       "\n",
       "    .dataframe tbody tr th {\n",
       "        vertical-align: top;\n",
       "    }\n",
       "\n",
       "    .dataframe thead th {\n",
       "        text-align: right;\n",
       "    }\n",
       "</style>\n",
       "<table border=\"1\" class=\"dataframe\">\n",
       "  <thead>\n",
       "    <tr style=\"text-align: right;\">\n",
       "      <th></th>\n",
       "      <th>Dominant_Topic</th>\n",
       "      <th>Topic_Keywords</th>\n",
       "      <th>Num_Documents</th>\n",
       "      <th>Perc_Documents</th>\n",
       "    </tr>\n",
       "  </thead>\n",
       "  <tbody>\n",
       "    <tr>\n",
       "      <th>0</th>\n",
       "      <td>0</td>\n",
       "      <td>['ultimate', 'detection', 'limit', 'optical', ...</td>\n",
       "      <td>1</td>\n",
       "      <td>1.0</td>\n",
       "    </tr>\n",
       "  </tbody>\n",
       "</table>\n",
       "</div>"
      ],
      "text/plain": [
       "   Dominant_Topic                                     Topic_Keywords  \\\n",
       "0               0  ['ultimate', 'detection', 'limit', 'optical', ...   \n",
       "\n",
       "   Num_Documents  Perc_Documents  \n",
       "0              1             1.0  "
      ]
     },
     "execution_count": 71,
     "metadata": {},
     "output_type": "execute_result"
    }
   ],
   "source": [
    "# Number of Documents for Each Topic\n",
    "topic_counts = df_topic_sents_keywords['Dominant_Topic'].value_counts()\n",
    "\n",
    "# Percentage of Documents for Each Topic\n",
    "topic_contribution = round(topic_counts/topic_counts.sum(), 4)\n",
    "\n",
    "# Topic Number and Keywords\n",
    "topic_num_keywords = df_topic_sents_keywords[['Dominant_Topic', 'Topic_Keywords']]\n",
    "\n",
    "# Concatenate Column wise\n",
    "df_dominant_topics = pd.concat([topic_num_keywords, topic_counts, topic_contribution], axis=1)\n",
    "\n",
    "# Change Column names\n",
    "df_dominant_topics.columns = ['Dominant_Topic', 'Topic_Keywords', 'Num_Documents', 'Perc_Documents']\n",
    "\n",
    "# Show\n",
    "df_dominant_topics"
   ]
  },
  {
   "cell_type": "code",
   "execution_count": 96,
   "id": "5380db65-0cea-4e18-b4b7-abe6b6ac789a",
   "metadata": {},
   "outputs": [],
   "source": [
    "# # Visualize the topics-keywords\n",
    "# import pyLDAvis.sklearn\n",
    "# pyLDAvis.enable_notebook()\n",
    "# vis = pyLDAvis.sklearn.prepare(lda_model, corpus, id2word)\n",
    "# vis"
   ]
  },
  {
   "cell_type": "markdown",
   "id": "6cf6d9a5-0258-4dc2-94e9-53c0530d13d2",
   "metadata": {},
   "source": [
    "## scikit-learn implementation of LDA"
   ]
  },
  {
   "cell_type": "code",
   "execution_count": 116,
   "id": "13e2b8d4-ce86-4fbf-9dcd-2d901dfbb570",
   "metadata": {},
   "outputs": [
    {
     "data": {
      "text/plain": [
       "(array(['aa', 'aaa', 'aachen', ..., 'área', 'åsberg', 'île'], dtype=object),\n",
       " array([[10.24937434,  0.99932621,  1.75701469, ...,  1.01445743,\n",
       "          0.9941474 ,  0.99731805],\n",
       "        [ 0.26065532,  0.22903587,  0.24772035, ...,  0.2602858 ,\n",
       "          0.27322885,  0.20353712],\n",
       "        [ 0.29104755,  0.22058945,  0.25508503, ...,  0.21782356,\n",
       "          0.27026568,  0.22678824],\n",
       "        ...,\n",
       "        [ 0.31265197,  0.23845187,  0.24282663, ...,  0.22176211,\n",
       "          0.22437959,  0.26421658],\n",
       "        [ 0.28099293,  0.27239333,  0.25945827, ...,  0.21927312,\n",
       "          0.23248993,  0.26285193],\n",
       "        [ 0.24807286,  0.24296446,  0.24512175, ...,  0.24759111,\n",
       "          0.23831266,  0.25104961]]),\n",
       " 0.058823529411764705)"
      ]
     },
     "execution_count": 116,
     "metadata": {},
     "output_type": "execute_result"
    }
   ],
   "source": [
    "# Creating a vectorizer\n",
    "vectorizer = CountVectorizer()\n",
    "data_vectorized = vectorizer.fit_transform([\" \".join(w) for w in texts])\n",
    "\n",
    "lda = LatentDirichletAllocation(n_components=num_topics, learning_method=\"online\", random_state=7)\n",
    "x = lda.fit_transform(data_vectorized)\n",
    "vectorizer.get_feature_names_out(), lda.components_, lda.doc_topic_prior_ #theta"
   ]
  },
  {
   "cell_type": "markdown",
   "id": "f3c2e985-f650-43bf-9cfa-34f46c5025a7",
   "metadata": {},
   "source": [
    "#### suggestions for improving this solution:-\n",
    "- add bigram & trigram \n",
    "- use transformer based models\n",
    "- remove non english words\n",
    "- use Hierarchical Drichlet Process(HDP) MODEL to find the best number of topics"
   ]
  },
  {
   "cell_type": "markdown",
   "id": "32d27a15-dc2f-4c2e-9d59-013840013f77",
   "metadata": {},
   "source": [
    "### This script written at April-2022 by Ahmad salama\n",
    "- salama4ai@gmail.com\n",
    "- www.linkedin.com/in/salama4ai"
   ]
  },
  {
   "cell_type": "code",
   "execution_count": null,
   "id": "29e17a3f-3e7f-47f5-81e1-560e499c0077",
   "metadata": {},
   "outputs": [],
   "source": []
  }
 ],
 "metadata": {
  "kernelspec": {
   "display_name": "Python 3 (ipykernel)",
   "language": "python",
   "name": "python3"
  },
  "language_info": {
   "codemirror_mode": {
    "name": "ipython",
    "version": 3
   },
   "file_extension": ".py",
   "mimetype": "text/x-python",
   "name": "python",
   "nbconvert_exporter": "python",
   "pygments_lexer": "ipython3",
   "version": "3.9.12"
  }
 },
 "nbformat": 4,
 "nbformat_minor": 5
}
