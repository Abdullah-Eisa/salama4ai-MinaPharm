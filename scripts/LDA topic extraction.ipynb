{
 "cells": [
  {
   "cell_type": "code",
   "execution_count": 1,
   "id": "dfbfa202-2c47-46de-81ca-8611a720d97f",
   "metadata": {},
   "outputs": [],
   "source": [
    "# !pip freeze"
   ]
  },
  {
   "cell_type": "code",
   "execution_count": 11,
   "id": "a5cc1afc-c15e-4788-87e8-2beb0e9febca",
   "metadata": {},
   "outputs": [],
   "source": [
    "# import pip\n",
    "# pip.main([\"install\", \"openpyxl\"])\n",
    "# pip.main([\"install\", \"scikit-learn\"])\n",
    "# pip.main([\"install\", \"spacy\"])\n",
    "# pip.main([\"install\", \"gensim\"])\n",
    "# pip.main([\"install\", \"string\"])\n",
    "# pip.main([\"install\", \"nltk\"])\n",
    "# pip.main([\"install\", \"en_core_sci_lg\"])\n",
    "# pip.main([\"install\", \"scispacy\"])"
   ]
  },
  {
   "cell_type": "code",
   "execution_count": 3,
   "id": "3036fff7-1f40-424d-bed7-aa5b66d3581f",
   "metadata": {},
   "outputs": [],
   "source": [
    "# import xlrd2\n",
    "# # To open Workbook\n",
    "# wb = xlrd.open_workbook(loc)\n",
    "# sheet = wb.sheet_by_index(0)"
   ]
  },
  {
   "cell_type": "code",
   "execution_count": 1,
   "id": "f90c34bf-ee43-4d01-901c-b1b7f3dc711a",
   "metadata": {},
   "outputs": [],
   "source": [
    "import pandas as pd"
   ]
  },
  {
   "cell_type": "code",
   "execution_count": 4,
   "id": "7f3d80da-04bd-4ef0-9b4e-3ad569bea89b",
   "metadata": {},
   "outputs": [
    {
     "data": {
      "text/plain": [
       "{'random 5k':       ArticleID                                              Title  \\\n",
       " 0      34153941  Stable Coordination Variability in Overground ...   \n",
       " 1      34153942  Weak Hip Strength Increases Dynamic Knee Valgu...   \n",
       " 2      34153964  Current and Future Projections of Amyotrophic ...   \n",
       " 3      34153968  Disparities between Asian and Non-Asian Thromb...   \n",
       " 4      34153978  Maternal Factors Predicting Loss to Follow-Up ...   \n",
       " ...         ...                                                ...   \n",
       " 4994   34444567  Mind the Differences: How Diagnoses and Hospit...   \n",
       " 4995   34444568  The Ethics of Dying: Deciphering Pandemic-Resu...   \n",
       " 4996   34444569  Research on Adolescents Regarding the Indirect...   \n",
       " 4997   34444571  Pre-Intervention Effects of a Community-Based ...   \n",
       " 4998   34444572  Pharmacists' Role in Older Adults' Medication ...   \n",
       " \n",
       "                                                Abstract  \n",
       " 0     Coordination variability (CV) is commonly anal...  \n",
       " 1     Clinical Scenario: Dynamic knee valgus (DKV) i...  \n",
       " 2     Various methodologies have been reported to as...  \n",
       " 3     As outcomes for acute ischemic stroke (AIS) va...  \n",
       " 4     Because hearing loss in children can result in...  \n",
       " ...                                                 ...  \n",
       " 4994  Integrated care pathway (ICP) is a prevailing ...  \n",
       " 4995  The objective of medicine is to provide humans...  \n",
       " 4996  This research involved the participation of 30...  \n",
       " 4997  This study explores the impact of the 'pre-int...  \n",
       " 4998  Medication regimen complexity (MRC) may influe...  \n",
       " \n",
       " [4999 rows x 3 columns]}"
      ]
     },
     "execution_count": 4,
     "metadata": {},
     "output_type": "execute_result"
    }
   ],
   "source": [
    "excel_dict = pd.read_excel(r\"..\\data files\\Pubmed5k.xlsx\", sheet_name=None)\n",
    "excel_dict"
   ]
  },
  {
   "cell_type": "code",
   "execution_count": 3,
   "id": "0b667ba4-03f2-4dae-a1bc-f4e25c119f6c",
   "metadata": {},
   "outputs": [
    {
     "data": {
      "text/html": [
       "<div>\n",
       "<style scoped>\n",
       "    .dataframe tbody tr th:only-of-type {\n",
       "        vertical-align: middle;\n",
       "    }\n",
       "\n",
       "    .dataframe tbody tr th {\n",
       "        vertical-align: top;\n",
       "    }\n",
       "\n",
       "    .dataframe thead th {\n",
       "        text-align: right;\n",
       "    }\n",
       "</style>\n",
       "<table border=\"1\" class=\"dataframe\">\n",
       "  <thead>\n",
       "    <tr style=\"text-align: right;\">\n",
       "      <th></th>\n",
       "      <th>ArticleID</th>\n",
       "      <th>Title</th>\n",
       "      <th>Abstract</th>\n",
       "    </tr>\n",
       "  </thead>\n",
       "  <tbody>\n",
       "    <tr>\n",
       "      <th>0</th>\n",
       "      <td>34153941</td>\n",
       "      <td>Stable Coordination Variability in Overground ...</td>\n",
       "      <td>Coordination variability (CV) is commonly anal...</td>\n",
       "    </tr>\n",
       "    <tr>\n",
       "      <th>1</th>\n",
       "      <td>34153942</td>\n",
       "      <td>Weak Hip Strength Increases Dynamic Knee Valgu...</td>\n",
       "      <td>Clinical Scenario: Dynamic knee valgus (DKV) i...</td>\n",
       "    </tr>\n",
       "    <tr>\n",
       "      <th>2</th>\n",
       "      <td>34153964</td>\n",
       "      <td>Current and Future Projections of Amyotrophic ...</td>\n",
       "      <td>Various methodologies have been reported to as...</td>\n",
       "    </tr>\n",
       "    <tr>\n",
       "      <th>3</th>\n",
       "      <td>34153968</td>\n",
       "      <td>Disparities between Asian and Non-Asian Thromb...</td>\n",
       "      <td>As outcomes for acute ischemic stroke (AIS) va...</td>\n",
       "    </tr>\n",
       "    <tr>\n",
       "      <th>4</th>\n",
       "      <td>34153978</td>\n",
       "      <td>Maternal Factors Predicting Loss to Follow-Up ...</td>\n",
       "      <td>Because hearing loss in children can result in...</td>\n",
       "    </tr>\n",
       "    <tr>\n",
       "      <th>...</th>\n",
       "      <td>...</td>\n",
       "      <td>...</td>\n",
       "      <td>...</td>\n",
       "    </tr>\n",
       "    <tr>\n",
       "      <th>4994</th>\n",
       "      <td>34444567</td>\n",
       "      <td>Mind the Differences: How Diagnoses and Hospit...</td>\n",
       "      <td>Integrated care pathway (ICP) is a prevailing ...</td>\n",
       "    </tr>\n",
       "    <tr>\n",
       "      <th>4995</th>\n",
       "      <td>34444568</td>\n",
       "      <td>The Ethics of Dying: Deciphering Pandemic-Resu...</td>\n",
       "      <td>The objective of medicine is to provide humans...</td>\n",
       "    </tr>\n",
       "    <tr>\n",
       "      <th>4996</th>\n",
       "      <td>34444569</td>\n",
       "      <td>Research on Adolescents Regarding the Indirect...</td>\n",
       "      <td>This research involved the participation of 30...</td>\n",
       "    </tr>\n",
       "    <tr>\n",
       "      <th>4997</th>\n",
       "      <td>34444571</td>\n",
       "      <td>Pre-Intervention Effects of a Community-Based ...</td>\n",
       "      <td>This study explores the impact of the 'pre-int...</td>\n",
       "    </tr>\n",
       "    <tr>\n",
       "      <th>4998</th>\n",
       "      <td>34444572</td>\n",
       "      <td>Pharmacists' Role in Older Adults' Medication ...</td>\n",
       "      <td>Medication regimen complexity (MRC) may influe...</td>\n",
       "    </tr>\n",
       "  </tbody>\n",
       "</table>\n",
       "<p>4999 rows × 3 columns</p>\n",
       "</div>"
      ],
      "text/plain": [
       "      ArticleID                                              Title  \\\n",
       "0      34153941  Stable Coordination Variability in Overground ...   \n",
       "1      34153942  Weak Hip Strength Increases Dynamic Knee Valgu...   \n",
       "2      34153964  Current and Future Projections of Amyotrophic ...   \n",
       "3      34153968  Disparities between Asian and Non-Asian Thromb...   \n",
       "4      34153978  Maternal Factors Predicting Loss to Follow-Up ...   \n",
       "...         ...                                                ...   \n",
       "4994   34444567  Mind the Differences: How Diagnoses and Hospit...   \n",
       "4995   34444568  The Ethics of Dying: Deciphering Pandemic-Resu...   \n",
       "4996   34444569  Research on Adolescents Regarding the Indirect...   \n",
       "4997   34444571  Pre-Intervention Effects of a Community-Based ...   \n",
       "4998   34444572  Pharmacists' Role in Older Adults' Medication ...   \n",
       "\n",
       "                                               Abstract  \n",
       "0     Coordination variability (CV) is commonly anal...  \n",
       "1     Clinical Scenario: Dynamic knee valgus (DKV) i...  \n",
       "2     Various methodologies have been reported to as...  \n",
       "3     As outcomes for acute ischemic stroke (AIS) va...  \n",
       "4     Because hearing loss in children can result in...  \n",
       "...                                                 ...  \n",
       "4994  Integrated care pathway (ICP) is a prevailing ...  \n",
       "4995  The objective of medicine is to provide humans...  \n",
       "4996  This research involved the participation of 30...  \n",
       "4997  This study explores the impact of the 'pre-int...  \n",
       "4998  Medication regimen complexity (MRC) may influe...  \n",
       "\n",
       "[4999 rows x 3 columns]"
      ]
     },
     "execution_count": 3,
     "metadata": {},
     "output_type": "execute_result"
    }
   ],
   "source": [
    "excel_dict[\"random 5k\"]"
   ]
  },
  {
   "cell_type": "code",
   "execution_count": 5,
   "id": "070d0b3f-a698-4417-a437-1ab166216c32",
   "metadata": {},
   "outputs": [],
   "source": [
    "excel_dict[\"random 5k\"].to_csv(r\"..\\data files\\Pubmed5k.csv\", header=True, index=False)"
   ]
  },
  {
   "cell_type": "code",
   "execution_count": 2,
   "id": "f5ad554d-4efd-434d-9352-b8be16c5a254",
   "metadata": {},
   "outputs": [
    {
     "data": {
      "text/html": [
       "<div>\n",
       "<style scoped>\n",
       "    .dataframe tbody tr th:only-of-type {\n",
       "        vertical-align: middle;\n",
       "    }\n",
       "\n",
       "    .dataframe tbody tr th {\n",
       "        vertical-align: top;\n",
       "    }\n",
       "\n",
       "    .dataframe thead th {\n",
       "        text-align: right;\n",
       "    }\n",
       "</style>\n",
       "<table border=\"1\" class=\"dataframe\">\n",
       "  <thead>\n",
       "    <tr style=\"text-align: right;\">\n",
       "      <th></th>\n",
       "      <th>Title</th>\n",
       "      <th>Abstract</th>\n",
       "    </tr>\n",
       "    <tr>\n",
       "      <th>ArticleID</th>\n",
       "      <th></th>\n",
       "      <th></th>\n",
       "    </tr>\n",
       "  </thead>\n",
       "  <tbody>\n",
       "    <tr>\n",
       "      <th>34153941</th>\n",
       "      <td>Stable Coordination Variability in Overground ...</td>\n",
       "      <td>Coordination variability (CV) is commonly anal...</td>\n",
       "    </tr>\n",
       "    <tr>\n",
       "      <th>34153942</th>\n",
       "      <td>Weak Hip Strength Increases Dynamic Knee Valgu...</td>\n",
       "      <td>Clinical Scenario: Dynamic knee valgus (DKV) i...</td>\n",
       "    </tr>\n",
       "    <tr>\n",
       "      <th>34153964</th>\n",
       "      <td>Current and Future Projections of Amyotrophic ...</td>\n",
       "      <td>Various methodologies have been reported to as...</td>\n",
       "    </tr>\n",
       "    <tr>\n",
       "      <th>34153968</th>\n",
       "      <td>Disparities between Asian and Non-Asian Thromb...</td>\n",
       "      <td>As outcomes for acute ischemic stroke (AIS) va...</td>\n",
       "    </tr>\n",
       "    <tr>\n",
       "      <th>34153978</th>\n",
       "      <td>Maternal Factors Predicting Loss to Follow-Up ...</td>\n",
       "      <td>Because hearing loss in children can result in...</td>\n",
       "    </tr>\n",
       "    <tr>\n",
       "      <th>...</th>\n",
       "      <td>...</td>\n",
       "      <td>...</td>\n",
       "    </tr>\n",
       "    <tr>\n",
       "      <th>34444567</th>\n",
       "      <td>Mind the Differences: How Diagnoses and Hospit...</td>\n",
       "      <td>Integrated care pathway (ICP) is a prevailing ...</td>\n",
       "    </tr>\n",
       "    <tr>\n",
       "      <th>34444568</th>\n",
       "      <td>The Ethics of Dying: Deciphering Pandemic-Resu...</td>\n",
       "      <td>The objective of medicine is to provide humans...</td>\n",
       "    </tr>\n",
       "    <tr>\n",
       "      <th>34444569</th>\n",
       "      <td>Research on Adolescents Regarding the Indirect...</td>\n",
       "      <td>This research involved the participation of 30...</td>\n",
       "    </tr>\n",
       "    <tr>\n",
       "      <th>34444571</th>\n",
       "      <td>Pre-Intervention Effects of a Community-Based ...</td>\n",
       "      <td>This study explores the impact of the 'pre-int...</td>\n",
       "    </tr>\n",
       "    <tr>\n",
       "      <th>34444572</th>\n",
       "      <td>Pharmacists' Role in Older Adults' Medication ...</td>\n",
       "      <td>Medication regimen complexity (MRC) may influe...</td>\n",
       "    </tr>\n",
       "  </tbody>\n",
       "</table>\n",
       "<p>4999 rows × 2 columns</p>\n",
       "</div>"
      ],
      "text/plain": [
       "                                                       Title  \\\n",
       "ArticleID                                                      \n",
       "34153941   Stable Coordination Variability in Overground ...   \n",
       "34153942   Weak Hip Strength Increases Dynamic Knee Valgu...   \n",
       "34153964   Current and Future Projections of Amyotrophic ...   \n",
       "34153968   Disparities between Asian and Non-Asian Thromb...   \n",
       "34153978   Maternal Factors Predicting Loss to Follow-Up ...   \n",
       "...                                                      ...   \n",
       "34444567   Mind the Differences: How Diagnoses and Hospit...   \n",
       "34444568   The Ethics of Dying: Deciphering Pandemic-Resu...   \n",
       "34444569   Research on Adolescents Regarding the Indirect...   \n",
       "34444571   Pre-Intervention Effects of a Community-Based ...   \n",
       "34444572   Pharmacists' Role in Older Adults' Medication ...   \n",
       "\n",
       "                                                    Abstract  \n",
       "ArticleID                                                     \n",
       "34153941   Coordination variability (CV) is commonly anal...  \n",
       "34153942   Clinical Scenario: Dynamic knee valgus (DKV) i...  \n",
       "34153964   Various methodologies have been reported to as...  \n",
       "34153968   As outcomes for acute ischemic stroke (AIS) va...  \n",
       "34153978   Because hearing loss in children can result in...  \n",
       "...                                                      ...  \n",
       "34444567   Integrated care pathway (ICP) is a prevailing ...  \n",
       "34444568   The objective of medicine is to provide humans...  \n",
       "34444569   This research involved the participation of 30...  \n",
       "34444571   This study explores the impact of the 'pre-int...  \n",
       "34444572   Medication regimen complexity (MRC) may influe...  \n",
       "\n",
       "[4999 rows x 2 columns]"
      ]
     },
     "execution_count": 2,
     "metadata": {},
     "output_type": "execute_result"
    }
   ],
   "source": [
    "df = pd.read_csv(r\"..\\data files\\Pubmed5k.csv\", index_col=\"ArticleID\")\n",
    "df"
   ]
  },
  {
   "cell_type": "markdown",
   "id": "85ed18aa-c961-4c95-b229-93f891b8fdde",
   "metadata": {},
   "source": [
    "# EDA"
   ]
  },
  {
   "cell_type": "code",
   "execution_count": 5,
   "id": "c6f215da-e78a-4f70-a6a3-f6f915076710",
   "metadata": {},
   "outputs": [
    {
     "data": {
      "text/plain": [
       "(4999, 2)"
      ]
     },
     "execution_count": 5,
     "metadata": {},
     "output_type": "execute_result"
    }
   ],
   "source": [
    "df.shape"
   ]
  },
  {
   "cell_type": "code",
   "execution_count": 6,
   "id": "ef0bd3f6-2c32-473d-b6f8-6813260286a6",
   "metadata": {},
   "outputs": [
    {
     "data": {
      "text/plain": [
       "4999"
      ]
     },
     "execution_count": 6,
     "metadata": {},
     "output_type": "execute_result"
    }
   ],
   "source": [
    "# ensure that the column \"ArticleID\" is really valid to be an ID and not a fake name\n",
    "df.index.nunique()"
   ]
  },
  {
   "cell_type": "code",
   "execution_count": 7,
   "id": "4995d159-da28-493e-8aa1-067e84a08de1",
   "metadata": {},
   "outputs": [
    {
     "name": "stdout",
     "output_type": "stream",
     "text": [
      "<class 'pandas.core.frame.DataFrame'>\n",
      "Int64Index: 4999 entries, 34153941 to 34444572\n",
      "Data columns (total 2 columns):\n",
      " #   Column    Non-Null Count  Dtype \n",
      "---  ------    --------------  ----- \n",
      " 0   Title     4999 non-null   object\n",
      " 1   Abstract  4999 non-null   object\n",
      "dtypes: object(2)\n",
      "memory usage: 246.2+ KB\n"
     ]
    }
   ],
   "source": [
    "df.info()"
   ]
  },
  {
   "cell_type": "code",
   "execution_count": 8,
   "id": "ef89b88c-6f1c-451c-8d07-8117a6b77bfc",
   "metadata": {},
   "outputs": [
    {
     "data": {
      "text/plain": [
       "Title       0.0\n",
       "Abstract    0.0\n",
       "dtype: float64"
      ]
     },
     "execution_count": 8,
     "metadata": {},
     "output_type": "execute_result"
    }
   ],
   "source": [
    "df.isna().mean()"
   ]
  },
  {
   "cell_type": "markdown",
   "id": "9df16176-2480-4cf2-a2fa-40b530cb3366",
   "metadata": {},
   "source": [
    "#### there is no null values"
   ]
  },
  {
   "cell_type": "code",
   "execution_count": 9,
   "id": "c811dc53-dd5a-4e84-8743-5ccf59c2fa75",
   "metadata": {},
   "outputs": [
    {
     "data": {
      "text/plain": [
       "Title       4999\n",
       "Abstract    4989\n",
       "dtype: int64"
      ]
     },
     "execution_count": 9,
     "metadata": {},
     "output_type": "execute_result"
    }
   ],
   "source": [
    "df.nunique()"
   ]
  },
  {
   "cell_type": "markdown",
   "id": "f960c875-eaec-4b12-b1df-161ecc988e36",
   "metadata": {},
   "source": [
    "#### there are 10 values repeated in the column of \"Abstract\""
   ]
  },
  {
   "cell_type": "code",
   "execution_count": 10,
   "id": "6380eb34-32da-4b8f-8a5c-f824eb47b268",
   "metadata": {},
   "outputs": [
    {
     "data": {
      "text/html": [
       "<div>\n",
       "<style scoped>\n",
       "    .dataframe tbody tr th:only-of-type {\n",
       "        vertical-align: middle;\n",
       "    }\n",
       "\n",
       "    .dataframe tbody tr th {\n",
       "        vertical-align: top;\n",
       "    }\n",
       "\n",
       "    .dataframe thead th {\n",
       "        text-align: right;\n",
       "    }\n",
       "</style>\n",
       "<table border=\"1\" class=\"dataframe\">\n",
       "  <thead>\n",
       "    <tr style=\"text-align: right;\">\n",
       "      <th></th>\n",
       "      <th>Title</th>\n",
       "      <th>Abstract</th>\n",
       "    </tr>\n",
       "  </thead>\n",
       "  <tbody>\n",
       "    <tr>\n",
       "      <th>count</th>\n",
       "      <td>4999</td>\n",
       "      <td>4999</td>\n",
       "    </tr>\n",
       "    <tr>\n",
       "      <th>unique</th>\n",
       "      <td>4999</td>\n",
       "      <td>4989</td>\n",
       "    </tr>\n",
       "    <tr>\n",
       "      <th>top</th>\n",
       "      <td>Stable Coordination Variability in Overground ...</td>\n",
       "      <td>[Figure: see text].</td>\n",
       "    </tr>\n",
       "    <tr>\n",
       "      <th>freq</th>\n",
       "      <td>1</td>\n",
       "      <td>6</td>\n",
       "    </tr>\n",
       "  </tbody>\n",
       "</table>\n",
       "</div>"
      ],
      "text/plain": [
       "                                                    Title             Abstract\n",
       "count                                                4999                 4999\n",
       "unique                                               4999                 4989\n",
       "top     Stable Coordination Variability in Overground ...  [Figure: see text].\n",
       "freq                                                    1                    6"
      ]
     },
     "execution_count": 10,
     "metadata": {},
     "output_type": "execute_result"
    }
   ],
   "source": [
    "df.describe()"
   ]
  },
  {
   "cell_type": "markdown",
   "id": "b7bd5040-f910-4d4f-82db-f5b4136a1401",
   "metadata": {},
   "source": [
    "# Preprocessing"
   ]
  },
  {
   "cell_type": "code",
   "execution_count": 3,
   "id": "48c0055b-b808-4646-ab3e-1600d7f8eb0a",
   "metadata": {},
   "outputs": [
    {
     "data": {
      "text/plain": [
       "'Coordination variability (CV) is commonly analyzed to understand dynamical qualities of human locomotion. The purpose of this study was to develop guidelines for the number of trials required to inform the calculation of a stable mean lower limb CV during overground locomotion. Three-dimensional lower limb kinematics were captured for 10 recreational runners performing 20 trials each of preferred and fixed speed walking and running. Stance phase CV was calculated for 9 segment and joint couplings using a modified vector coding technique. The number of trials required to achieve a CV mean within 10% of 20 strides average was determined for each coupling and individual. The statistical outputs of mode (walking vs running) and speed (preferred vs fixed) were compared when informed by differing numbers of trials. A minimum of 11 trials were required for stable mean stance phase CV. With fewer than 11 trials, CV was underestimated and led to an oversight of significant differences between mode and speed. Future overground locomotion CV research in healthy populations using a vector coding approach should use 11 trials as a standard minimum. Researchers should be aware of the notable consequences of an insufficient number of trials for overall study findings.'"
      ]
     },
     "execution_count": 3,
     "metadata": {},
     "output_type": "execute_result"
    }
   ],
   "source": [
    "df.iloc[0, 1]"
   ]
  },
  {
   "cell_type": "code",
   "execution_count": 3,
   "id": "da52e4d2-e6c0-4858-8f86-686d7b5aedbf",
   "metadata": {},
   "outputs": [
    {
     "data": {
      "text/plain": [
       "'Stable Coordination Variability in Overground Walking and Running at Preferred and Fixed Speeds.'"
      ]
     },
     "execution_count": 3,
     "metadata": {},
     "output_type": "execute_result"
    }
   ],
   "source": [
    "df.iloc[0, 0]"
   ]
  },
  {
   "cell_type": "code",
   "execution_count": 4,
   "id": "f19d8530-2a14-4d13-937d-234c72bd4de6",
   "metadata": {},
   "outputs": [
    {
     "name": "stdout",
     "output_type": "stream",
     "text": [
      "179 ['some', 'a', 'during', 've', 'but', 'all', 'mightn', 'himself', 'i', 'doing']\n"
     ]
    },
    {
     "name": "stderr",
     "output_type": "stream",
     "text": [
      "[nltk_data] Downloading package wordnet to\n",
      "[nltk_data]     C:\\Users\\huzyfa\\AppData\\Roaming\\nltk_data...\n",
      "[nltk_data]   Package wordnet is already up-to-date!\n",
      "[nltk_data] Downloading package omw-1.4 to\n",
      "[nltk_data]     C:\\Users\\huzyfa\\AppData\\Roaming\\nltk_data...\n",
      "[nltk_data]   Package omw-1.4 is already up-to-date!\n",
      "[nltk_data] Downloading package punkt to\n",
      "[nltk_data]     C:\\Users\\huzyfa\\AppData\\Roaming\\nltk_data...\n",
      "[nltk_data]   Package punkt is already up-to-date!\n"
     ]
    }
   ],
   "source": [
    "import nltk\n",
    "# nltk.download('stopwords')\n",
    "from nltk.corpus import stopwords  #stopwords\n",
    "stop_words=list(set(nltk.corpus.stopwords.words('english')))\n",
    "print(len(stop_words), stop_words[:10])\n",
    "\n",
    "#########################################################\n",
    "### alternative libraries but the same results###\n",
    "\n",
    "# from gensim.parsing.preprocessing import STOPWORDS\n",
    "# from sklearn.feature_extraction import stop_words\n",
    "#########################################################\n",
    "\n",
    "# nltk methods for lemmatization or stemming\n",
    "from nltk.stem import WordNetLemmatizer #, SnowballStemmer\n",
    "nltk.download('wordnet')\n",
    "nltk.download('omw-1.4')\n",
    "wnl = WordNetLemmatizer()\n",
    "# stm = SnowballStemmer(\"english\", ignore_stopwords=True)\n",
    "\n",
    "# nltk method for tokenization\n",
    "from nltk.tokenize import word_tokenize\n",
    "nltk.download('punkt')\n",
    "\n",
    "from sklearn.feature_extraction.text import TfidfVectorizer, CountVectorizer\n",
    "from sklearn.decomposition import LatentDirichletAllocation\n",
    "\n",
    "import string\n",
    "import gensim"
   ]
  },
  {
   "cell_type": "code",
   "execution_count": 12,
   "id": "72c97c00-3b13-4e7a-ad48-159d5d23a5a5",
   "metadata": {},
   "outputs": [
    {
     "data": {
      "text/plain": [
       "318"
      ]
     },
     "execution_count": 12,
     "metadata": {},
     "output_type": "execute_result"
    }
   ],
   "source": [
    "# from sklearn.feature_extraction import ENGLISH_STOP_WORDS\n",
    "# ENGLISH_STOP_WORDS\n",
    "from sklearn.feature_extraction.text import TfidfVectorizer\n",
    "from sklearn.feature_extraction import text\n",
    "my_stop_words = text.ENGLISH_STOP_WORDS.union([\"book\"])\n",
    "\n",
    "vectorizer = TfidfVectorizer(ngram_range=(1,1), stop_words=my_stop_words)\n",
    "len(text.ENGLISH_STOP_WORDS)"
   ]
  },
  {
   "cell_type": "code",
   "execution_count": 91,
   "id": "42fab046-495e-4d3a-9861-923c8f7a02c7",
   "metadata": {},
   "outputs": [
    {
     "data": {
      "text/plain": [
       "'!\"#$%&\\'()*+,-./:;<=>?@[\\\\]^_`{|}~'"
      ]
     },
     "execution_count": 91,
     "metadata": {},
     "output_type": "execute_result"
    }
   ],
   "source": [
    "string.punctuation"
   ]
  },
  {
   "cell_type": "code",
   "execution_count": 87,
   "id": "c19390f3-aee4-48d7-ad05-6ad3d8945bf1",
   "metadata": {},
   "outputs": [],
   "source": [
    "def clean_txt(txt):\n",
    "\n",
    "    txt = re.sub('\\W+',' ', txt) \n",
    "    # txt = (txt.translate(str.maketrans('', '', string.punctuation))) # remove the punctuation, it's the fastest method \n",
    "    \n",
    "    # lower all characters\n",
    "    txt = txt.lower()\n",
    "    \n",
    "    # splite the words after every space(tokenize)\n",
    "    txt = txt.split()    \n",
    "    # txt = word_tokenize(txt) # nltk tokenization alternative\n",
    "\n",
    "    # remove stop words and do lemmatization\n",
    "    txt = [wnl.lemmatize(word) for word in txt if ((word.isalpha()) and (word not in stop_words))]\n",
    "    \n",
    "    # returning the result\n",
    "    return txt"
   ]
  },
  {
   "cell_type": "code",
   "execution_count": 85,
   "id": "2d251bc2-46c0-4bce-b1fd-68041b033841",
   "metadata": {},
   "outputs": [],
   "source": [
    "# # NOTE: there are mistake regarding maketrans func while dealing with hyphens(-)\n",
    "# test = \"Three-dimensional low\"\n",
    "# (test.translate(str.maketrans('', '', string.punctuation))), test, re.sub('\\W+',' ', test) "
   ]
  },
  {
   "cell_type": "code",
   "execution_count": 90,
   "id": "86979dd4-a770-4efc-8e18-e9fdc7aeb65e",
   "metadata": {},
   "outputs": [
    {
     "data": {
      "text/plain": [
       "ArticleID\n",
       "34153941    [coordination, variability, cv, commonly, anal...\n",
       "34153942    [clinical, scenario, dynamic, knee, valgus, dk...\n",
       "34153964    [various, methodology, reported, ass, real, wo...\n",
       "34153968    [outcome, acute, ischemic, stroke, ai, vary, a...\n",
       "34153978    [hearing, loss, child, result, developmental, ...\n",
       "                                  ...                        \n",
       "34444567    [integrated, care, pathway, icp, prevailing, c...\n",
       "34444568    [objective, medicine, provide, human, best, po...\n",
       "34444569    [research, involved, participation, chinese, s...\n",
       "34444571    [study, explores, impact, pre, intervention, e...\n",
       "34444572    [medication, regimen, complexity, mrc, may, in...\n",
       "Name: Abstract_processed, Length: 4999, dtype: object"
      ]
     },
     "execution_count": 90,
     "metadata": {},
     "output_type": "execute_result"
    }
   ],
   "source": [
    "df[\"Abstract_processed\"] = [clean_txt(txt) for txt in df.Abstract]\n",
    "df[\"Abstract_processed\"]"
   ]
  },
  {
   "cell_type": "markdown",
   "id": "1c964506-8210-4948-83a1-160bfd10056e",
   "metadata": {},
   "source": [
    "Text Analysis is a major application field for machine learning algorithms. However the raw data, a sequence of symbols cannot be fed directly to the algorithms themselves as most of them expect numerical feature vectors with a fixed size rather than the raw text documents with variable length."
   ]
  },
  {
   "cell_type": "code",
   "execution_count": null,
   "id": "08ddf0b8-a00e-4215-96be-6bdee5f42998",
   "metadata": {},
   "outputs": [],
   "source": [
    "dictionary=gensim.corpora.Dictionary(df[\"Abstract_processed\"])\n",
    "dictionary.filter_extremes(no_below=5, no_above=0.5, keep_n=1000)\n",
    "df[\"bow_corpus\"]=[dictionary.doc2bow(doc) for doc in df[\"Abstract_processed\"]]"
   ]
  },
  {
   "cell_type": "code",
   "execution_count": null,
   "id": "a1ad3e35-4bd9-4331-8de9-2d655fa43d5f",
   "metadata": {},
   "outputs": [],
   "source": [
    "from gensim import corpora, models\n",
    "tfidf=models.TfidfModel(bow_corpus)\n",
    "corpus_tfidf=tfidf[bow_corpus]\n",
    "# lda_model=gensim.models.LdaMulticore(bow_corpus,\n",
    "#                                     num_topics=50,\n",
    "#                                     id2word=dictionary,\n",
    "#                                     passes=2)"
   ]
  },
  {
   "cell_type": "code",
   "execution_count": null,
   "id": "0a8007d6-2417-43a7-98ab-461059692b54",
   "metadata": {},
   "outputs": [],
   "source": [
    "from sklearn.feature_extraction.text import TfidfVectorizer\n",
    "def vectorize(text, maxx_features):\n",
    "    \n",
    "    vectorizer = TfidfVectorizer(max_features=maxx_features)\n",
    "    X = vectorizer.fit_transform(text)\n",
    "    return X"
   ]
  },
  {
   "cell_type": "code",
   "execution_count": 97,
   "id": "ebb34d29-f7e6-4ad3-9f9e-08452a258332",
   "metadata": {},
   "outputs": [],
   "source": [
    "# df.iloc[1, 1]\n",
    "# for i in df.iloc[0, 1].split():\n",
    "#     re.match(\"(\",\n",
    "        \n",
    "    "
   ]
  },
  {
   "cell_type": "code",
   "execution_count": null,
   "id": "70da7d51-78d9-42d8-aab3-2c03711888ef",
   "metadata": {},
   "outputs": [],
   "source": []
  }
 ],
 "metadata": {
  "kernelspec": {
   "display_name": "Python 3 (ipykernel)",
   "language": "python",
   "name": "python3"
  },
  "language_info": {
   "codemirror_mode": {
    "name": "ipython",
    "version": 3
   },
   "file_extension": ".py",
   "mimetype": "text/x-python",
   "name": "python",
   "nbconvert_exporter": "python",
   "pygments_lexer": "ipython3",
   "version": "3.9.7"
  }
 },
 "nbformat": 4,
 "nbformat_minor": 5
}
